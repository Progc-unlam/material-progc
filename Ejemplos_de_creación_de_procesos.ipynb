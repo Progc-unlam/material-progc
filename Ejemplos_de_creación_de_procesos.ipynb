{
  "nbformat": 4,
  "nbformat_minor": 0,
  "metadata": {
    "colab": {
      "provenance": [],
      "authorship_tag": "ABX9TyP0AbtoO+Of2/AzA7PhZ7l7",
      "include_colab_link": true
    },
    "kernelspec": {
      "name": "python3",
      "display_name": "Python 3"
    },
    "language_info": {
      "name": "python"
    }
  },
  "cells": [
    {
      "cell_type": "markdown",
      "metadata": {
        "id": "view-in-github",
        "colab_type": "text"
      },
      "source": [
        "<a href=\"https://colab.research.google.com/github/Progc-unlam/material-progc/blob/main/Ejemplos_de_creaci%C3%B3n_de_procesos.ipynb\" target=\"_parent\"><img src=\"https://colab.research.google.com/assets/colab-badge.svg\" alt=\"Open In Colab\"/></a>"
      ]
    },
    {
      "cell_type": "markdown",
      "source": [
        "# Ejemplos de creación de procesos"
      ],
      "metadata": {
        "id": "dQ9f5EgB5rwq"
      }
    },
    {
      "cell_type": "markdown",
      "source": [
        "*Python*"
      ],
      "metadata": {
        "id": "h-3d05L_5_5o"
      }
    },
    {
      "cell_type": "code",
      "execution_count": 1,
      "metadata": {
        "colab": {
          "base_uri": "https://localhost:8080/"
        },
        "id": "nOQQnW4q5ckC",
        "outputId": "3cd6a45f-125b-41d7-8833-d4f84607a405"
      },
      "outputs": [
        {
          "output_type": "stream",
          "name": "stdout",
          "text": [
            "Soy el proceso hijo. PID:  2146\n",
            "Mi padre es el proceso con PID:  2073\n",
            "Soy el proceso padre. PID:  2073\n",
            "(2146, 0)\n"
          ]
        }
      ],
      "source": [
        "import os\n",
        "import sys\n",
        "\n",
        "pid = os.fork()\n",
        "\n",
        "if pid < 0:\n",
        "    sys.exit(\"Error al crear el nuevo proceso\")\n",
        "\n",
        "if pid:\n",
        "    print(\"Soy el proceso padre. PID: \", os.getpid() )\n",
        "    print( os.wait() )\n",
        "else:\n",
        "    print(\"Soy el proceso hijo. PID: \",  os.getpid())\n",
        "    print(\"Mi padre es el proceso con PID: \",  os.getppid())\n",
        "    os._exit( os.EX_OK )"
      ]
    },
    {
      "cell_type": "markdown",
      "source": [
        "*Ansi C*"
      ],
      "metadata": {
        "id": "aXGNbgtK7Ksg"
      }
    },
    {
      "cell_type": "code",
      "source": [
        "%%writefile fork_wait.c\n",
        "#include <stdlib.h>\n",
        "#include <stdio.h>\n",
        "#include <unistd.h>\n",
        "#include <sys/wait.h>\n",
        "\n",
        "int main(int argc, char *argv[])\n",
        "{\n",
        "    pid_t pid = fork();\n",
        "\n",
        "    if( pid < 0 )\n",
        "    {\n",
        "        printf(\"Error de creación\\n\");\n",
        "        return EXIT_FAILURE;\n",
        "    }\n",
        "\n",
        "    if( pid )\n",
        "    {\n",
        "        printf(\"Soy el padre. PID: %d\\n\",getpid());\n",
        "        wait(NULL);\n",
        "    }\n",
        "    else\n",
        "    {\n",
        "        printf(\"Soy el hijo. PID: %d\\n\",getpid());\n",
        "        printf(\"Mi padre es PID: %d\\n\",getppid());\n",
        "        return EXIT_SUCCESS;\n",
        "    }\n",
        "\n",
        "    return EXIT_SUCCESS;\n",
        "}"
      ],
      "metadata": {
        "colab": {
          "base_uri": "https://localhost:8080/"
        },
        "id": "lJWM4bge6Sel",
        "outputId": "eba0f7e8-4995-4198-be62-9b54edd9782a"
      },
      "execution_count": 5,
      "outputs": [
        {
          "output_type": "stream",
          "name": "stdout",
          "text": [
            "Writing fork_wait.c\n"
          ]
        }
      ]
    },
    {
      "cell_type": "code",
      "source": [
        "!gcc -o ejemplo_fork fork_wait.c"
      ],
      "metadata": {
        "id": "UNJ2PnYK8hGw"
      },
      "execution_count": 7,
      "outputs": []
    },
    {
      "cell_type": "code",
      "source": [
        "!./ejemplo_fork"
      ],
      "metadata": {
        "colab": {
          "base_uri": "https://localhost:8080/"
        },
        "id": "aeymotLs-HCk",
        "outputId": "d650ac94-73c3-49bb-9635-af1a4d7f8000"
      },
      "execution_count": 9,
      "outputs": [
        {
          "output_type": "stream",
          "name": "stdout",
          "text": [
            "Soy el padre. PID: 6943\n",
            "Soy el hijo. PID: 6944\n",
            "Mi padre es PID: 6943\n"
          ]
        }
      ]
    },
    {
      "cell_type": "markdown",
      "source": [
        "*Java*"
      ],
      "metadata": {
        "id": "gHhbJNA8CFMv"
      }
    },
    {
      "cell_type": "code",
      "source": [
        "%%writefile EjemploProcess.java\n",
        "import java.io.IOException;\n",
        "import java.lang.management.ManagementFactory;\n",
        "\n",
        "public class EjemploProcess\n",
        "{\n",
        "    public static long getProcessId()\n",
        "    {\n",
        "        return ManagementFactory.getRuntimeMXBean().getPid();\n",
        "    }\n",
        "\n",
        "    public static void main(String[] args) throws IOException, InterruptedException\n",
        "    {\n",
        "        System.out.println(\"PID: \" + getProcessId());\n",
        "\n",
        "        ProcessBuilder pb = new ProcessBuilder(\"java\", \"HolaMundo.java\");\n",
        "        pb.redirectErrorStream(true);\n",
        "        pb.inheritIO();\n",
        "\n",
        "        Process proceso = pb.start();\n",
        "        int error = proceso.waitFor();\n",
        "\n",
        "        if( error != 0 )\n",
        "        {\n",
        "            System.out.println(\"HolaMundo.java finalizó con error\");\n",
        "        }\n",
        "    }\n",
        "}"
      ],
      "metadata": {
        "colab": {
          "base_uri": "https://localhost:8080/"
        },
        "id": "JiiuGB0H-LvM",
        "outputId": "314de37d-6cad-4fef-9d07-5ea0273ada47"
      },
      "execution_count": 22,
      "outputs": [
        {
          "output_type": "stream",
          "name": "stdout",
          "text": [
            "Writing EjemploProcess.java\n"
          ]
        }
      ]
    },
    {
      "cell_type": "code",
      "source": [
        "%%writefile HolaMundo.java\n",
        "import java.lang.management.ManagementFactory;\n",
        "\n",
        "class HolaMundo\n",
        "{\n",
        "    public static void main(String[] args)\n",
        "    {\n",
        "        long pid = ManagementFactory.getRuntimeMXBean().getPid();\n",
        "        System.out.println(\"PID: \" + pid);\n",
        "        System.out.println(\"Hola Mundo!\");\n",
        "\t}\n",
        "}"
      ],
      "metadata": {
        "colab": {
          "base_uri": "https://localhost:8080/"
        },
        "id": "1qj8SaYA-VTM",
        "outputId": "68d230c6-4f4d-4385-8b97-98b6278765e9"
      },
      "execution_count": 23,
      "outputs": [
        {
          "output_type": "stream",
          "name": "stdout",
          "text": [
            "Writing HolaMundo.java\n"
          ]
        }
      ]
    },
    {
      "cell_type": "code",
      "source": [
        "!java EjemploProcess.java"
      ],
      "metadata": {
        "colab": {
          "base_uri": "https://localhost:8080/"
        },
        "id": "g_C8sWFwCrFZ",
        "outputId": "c2ce2125-a085-432f-e984-3cf62c2fe560"
      },
      "execution_count": 24,
      "outputs": [
        {
          "output_type": "stream",
          "name": "stdout",
          "text": [
            "PID: 12280\n",
            "PID: 12303\n",
            "Hola Mundo!\n"
          ]
        }
      ]
    }
  ]
}