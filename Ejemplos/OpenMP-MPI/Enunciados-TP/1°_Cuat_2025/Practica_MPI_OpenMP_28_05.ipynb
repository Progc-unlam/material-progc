{
  "nbformat": 4,
  "nbformat_minor": 0,
  "metadata": {
    "colab": {
      "provenance": []
    },
    "kernelspec": {
      "name": "python3",
      "display_name": "Python 3"
    },
    "language_info": {
      "name": "python"
    }
  },
  "cells": [
    {
      "cell_type": "markdown",
      "source": [
        "# Trabajo Práctico N° 3\n",
        "## Programación paralela distribuida\n",
        "\n",
        "### Objetivo\n",
        "El objetvio de la práctica es desarrollar una solución distribuida implementando el paradigma de la programación paralela. Para ello, se utilizará mpi4py como librería del leguaje Python la cual provee de las clases y métodos necesarios para la implementación del estandar de comunicación MPI.\n",
        "\n",
        "## Enunciado\n",
        "Construir un programa que permita contabilidar la ventas diarias de diferentes categorías de productos generadas por 16 sucursales de una muy conocida cadena de supermercados.\n",
        "\n",
        "Se cuenta con un dataset segmentado por sucursal con la siguiente estructura:\n",
        "```\n",
        "data = [\n",
        "  {\"sucursal_1\": {\"categoria_1\": 300, \"categoria_2\": 1000}},\n",
        "  {\"sucursal_2\": {\"categoria_1\": 300, \"categoria_4\": 1400}},\n",
        "]\n",
        "```\n",
        "\n",
        "Por otro lado, disponemos de un dataset mas pequeño con el porcentaje de aumento para determinados productos:\n",
        "```\n",
        "descuentos = {\n",
        "  \"categoria_1\": 0.10,\n",
        "  \"categoria_4\": 0.25\n",
        "}\n",
        "```\n",
        "\n",
        "**NOTA:** Ambos datasets **solo estarán disponibles desde nodo maestro (raiz)**\n",
        "\n",
        "El programa en cuestión debe poder:\n",
        "* Registrar el número de ventas totales por categoria.\n",
        "* Implementar paralelismo con 2 o mas procesos.\n",
        "* Registrar los tiempos de ejecución de cada proceso involucrado.\n",
        "* PLUS: Informar cual fue la sucursal que registro el mayor descuento.\n",
        "\n",
        "\n",
        "\n",
        "---\n",
        "\n"
      ],
      "metadata": {
        "id": "YQHvNVsoPWDD"
      }
    },
    {
      "cell_type": "markdown",
      "source": [
        "Debemos instalar la libreria de mpi4py para poder utilizarlo en el entorno de colab"
      ],
      "metadata": {
        "id": "3in0Lch6poAu"
      }
    },
    {
      "cell_type": "code",
      "execution_count": null,
      "metadata": {
        "colab": {
          "base_uri": "https://localhost:8080/"
        },
        "id": "ymYB7nA-OZZk",
        "outputId": "340a53f0-dfcd-45e1-cfde-aa43b2301ffd"
      },
      "outputs": [
        {
          "output_type": "stream",
          "name": "stdout",
          "text": [
            "Collecting mpi4py\n",
            "  Downloading mpi4py-4.0.3.tar.gz (466 kB)\n",
            "\u001b[?25l     \u001b[90m━━━━━━━━━━━━━━━━━━━━━━━━━━━━━━━━━━━━━━━━\u001b[0m \u001b[32m0.0/466.3 kB\u001b[0m \u001b[31m?\u001b[0m eta \u001b[36m-:--:--\u001b[0m\r\u001b[2K     \u001b[91m━━━━━━━━━━━\u001b[0m\u001b[91m╸\u001b[0m\u001b[90m━━━━━━━━━━━━━━━━━━━━━━━━━━━\u001b[0m \u001b[32m143.4/466.3 kB\u001b[0m \u001b[31m4.9 MB/s\u001b[0m eta \u001b[36m0:00:01\u001b[0m\r\u001b[2K     \u001b[91m━━━━━━━━━━━━━━━━━━━━━━━━━━━━━━━━━━━━━━\u001b[0m\u001b[91m╸\u001b[0m \u001b[32m460.8/466.3 kB\u001b[0m \u001b[31m7.8 MB/s\u001b[0m eta \u001b[36m0:00:01\u001b[0m\r\u001b[2K     \u001b[90m━━━━━━━━━━━━━━━━━━━━━━━━━━━━━━━━━━━━━━━\u001b[0m \u001b[32m466.3/466.3 kB\u001b[0m \u001b[31m5.4 MB/s\u001b[0m eta \u001b[36m0:00:00\u001b[0m\n",
            "\u001b[?25h  Installing build dependencies ... \u001b[?25l\u001b[?25hdone\n",
            "  Getting requirements to build wheel ... \u001b[?25l\u001b[?25hdone\n",
            "  Installing backend dependencies ... \u001b[?25l\u001b[?25hdone\n",
            "  Preparing metadata (pyproject.toml) ... \u001b[?25l\u001b[?25hdone\n",
            "Building wheels for collected packages: mpi4py\n",
            "  Building wheel for mpi4py (pyproject.toml) ... \u001b[?25l\u001b[?25hdone\n",
            "  Created wheel for mpi4py: filename=mpi4py-4.0.3-cp311-cp311-linux_x86_64.whl size=4441921 sha256=0c6d0e92842d2d10fea5047864c9a6427f1315d419b81c7eaeae2c09ddd8226b\n",
            "  Stored in directory: /root/.cache/pip/wheels/5c/56/17/bf6ba37aa971a191a8b9eaa188bf5ec855b8911c1c56fb1f84\n",
            "Successfully built mpi4py\n",
            "Installing collected packages: mpi4py\n",
            "Successfully installed mpi4py-4.0.3\n"
          ]
        }
      ],
      "source": [
        "! pip install mpi4py"
      ]
    },
    {
      "cell_type": "code",
      "source": [
        "%%writefile trabajo_practico_3.py\n",
        "from mpi4py import MPI\n",
        "import numpy as np\n",
        "import time\n",
        "import os\n",
        "\n",
        "\n",
        "def generate_dataset(num_branches, num_categories):\n",
        "    total = []\n",
        "    for i in range(num_branches):\n",
        "        branch_name = f\"branch_{i + 1}\"\n",
        "        categories = {}\n",
        "        for j in range(num_categories):\n",
        "            category_name = f\"category_{j + 1}\"\n",
        "            categories[category_name] = np.random.randint(1000)\n",
        "        total.append({branch_name: categories})\n",
        "    return total\n",
        "\n",
        "\n",
        "def separate_dataset(dataset, num_processes):\n",
        "    aux_dataset = []\n",
        "    for data in dataset:\n",
        "        for _, value in data.items():\n",
        "            aux_dataset.append(value)\n",
        "    return np.array_split(aux_dataset, num_processes)\n",
        "\n",
        "\n",
        "def sum_partially_total_sales(sales_by_category):\n",
        "  #\n",
        "  # COMPLETAR CON CODIGO DEL ALUMNO\n",
        "  #\n",
        "  pass\n",
        "\n",
        "def sum_total_sales(total_sales_a, total_sales_b, datatype=None):\n",
        "  #\n",
        "  # COMPLETAR CON CODIGO DEL ALUMNO\n",
        "  #\n",
        "  pass\n",
        "\n",
        "def apply_discounts(partial_sales, discounts):\n",
        "  #\n",
        "  # COMPLETAR CON CODIGO DEL ALUMNO\n",
        "  #\n",
        "  pass\n",
        "\n",
        "OP_SUM = MPI.Op.Create(sum_total_sales, commute=True)\n",
        "\n",
        "NUM_BRANCHES = int(os.getenv(\"SUC\", 4))\n",
        "NUM_CATEGORIES = int(os.getenv(\"CAT\", 4))\n",
        "\n",
        "\n",
        "def main():\n",
        "    comm = MPI.COMM_WORLD\n",
        "    rank = comm.Get_rank()\n",
        "    size = comm.Get_size()\n",
        "\n",
        "    print(f\"Process {rank} of {size}\")\n",
        "\n",
        "    global_start_time = 0.0\n",
        "    total_sales = 0\n",
        "    if rank == 0:\n",
        "        global_start_time = time.time()\n",
        "        discounts = {\n",
        "          \"categoria_1\": 0.10,\n",
        "          \"categoria_4\": 0.25,\n",
        "          \"categoria_3\": 0.15,\n",
        "          \"categoria_2\": 0.20,\n",
        "          \"categoria_5\": 0.12,\n",
        "          \"categoria_6\": 0.18,\n",
        "          \"categoria_7\": 0.14,\n",
        "          \"categoria_8\": 0.22,\n",
        "          \"categoria_9\": 0.17,\n",
        "          \"categoria_10\": 0.11,\n",
        "        }\n",
        "      #\n",
        "      # COMPLETAR CON CODIGO DEL ALUMNO (DE SER NECESARIO)\n",
        "      #\n",
        "    else:\n",
        "        splitted_dataset = None\n",
        "        discounts = None\n",
        "\n",
        "    #\n",
        "    # COMPLETAR CON CODIGO DEL ALUMNO (DE SER NECESARIO)\n",
        "    #\n",
        "    if rank == 0:\n",
        "        global_end_time = time.time()\n",
        "        total_execution_time = round(global_end_time - global_start_time, 10)\n",
        "        print(\"TOTAL SALES\", total_sales)\n",
        "        print(f\"Total execution time: {total_execution_time} seconds\")\n",
        "\n",
        "\n",
        "if __name__ == \"__main__\":\n",
        "    main()"
      ],
      "metadata": {
        "colab": {
          "base_uri": "https://localhost:8080/"
        },
        "id": "gnV8HJGjp9Fd",
        "outputId": "3bfc12ff-2e77-4f7d-abd5-ff66374ee089"
      },
      "execution_count": null,
      "outputs": [
        {
          "output_type": "stream",
          "name": "stdout",
          "text": [
            "Overwriting trabajo_practico_3.py\n"
          ]
        }
      ]
    },
    {
      "cell_type": "code",
      "source": [
        "# --------------------------------------------\n",
        "#@title Parámetros de ejecución { vertical-output: true }\n",
        "NRO_PROC =   4#@param {type: \"number\"}\n",
        "COUNT_SUC =   8#@param {type: \"number\"}\n",
        "COUNT_CAT =   30000#@param {type: \"number\"}\n",
        "# --------------------------------------------\n",
        "\n",
        "! mpirun --oversubscribe --allow-run-as-root -x CAT=$COUNT_CAT -x SUC=$COUNT_SUC -np $NRO_PROC python trabajo_practico_3.py"
      ],
      "metadata": {
        "colab": {
          "base_uri": "https://localhost:8080/"
        },
        "id": "ejdKdsqip6Qo",
        "outputId": "3ca3396b-f753-4cfd-e757-f8d565c63a6e"
      },
      "execution_count": null,
      "outputs": [
        {
          "output_type": "stream",
          "name": "stdout",
          "text": [
            "Process 2 of 4\n",
            "Process 3 of 4\n",
            "Process 0 of 4\n",
            "TOTAL SALES 0\n",
            "Total execution time: 3.0994e-06 seconds\n",
            "Process 1 of 4\n"
          ]
        }
      ]
    },
    {
      "cell_type": "markdown",
      "source": [
        "## Programación paralela con memoria compartida\n",
        "\n",
        "# Objetivo\n",
        "\n",
        "En esta ocación disponemos únicamente de la cantidad de ventas por sucursal en un periodo dado.\n",
        "\n",
        "El objetivo es calcular el total de ventas generadas en todo el periodo, implementando las directivas adecuadas de OpenMP para realizarlo de forma paralela.\n",
        "\n"
      ],
      "metadata": {
        "id": "7lDCwlhjh6rO"
      }
    },
    {
      "cell_type": "code",
      "source": [
        "%%writefile trabajo_practico_3.cpp\n",
        "#include <omp.h>\n",
        "#include <stdio.h>\n",
        "#include <stdlib.h>\n",
        "\n",
        "#define SEED 4\n",
        "#define LIMIT_INF 0\n",
        "#define LIMIT_SUP 100\n",
        "\n",
        "int main(int argc, char* argv[]){\n",
        "    if(argv[1] && argv[2])\n",
        "    {\n",
        "        int count_suc = atoi( argv[1] );\n",
        "        int days = atoi( argv[2] );\n",
        "        int ventas_x_sucursal[count_suc][days];\n",
        "        int total = 0;\n",
        "        int index = 0;\n",
        "        int total_test = 0;\n",
        "\n",
        "        srand(SEED);\n",
        "        for (int i = 0; i < count_suc; i++)\n",
        "        {\n",
        "            for (int j = 0; j < days; j++)\n",
        "            {\n",
        "                ventas_x_sucursal[i][j] = (rand() % (LIMIT_SUP - LIMIT_INF + 1)) + LIMIT_INF;\n",
        "            }\n",
        "        }\n",
        "\n",
        "        for (int i = 0; i < count_suc; i++)\n",
        "        {\n",
        "            for (int j = 0; j < days; j++)\n",
        "            {\n",
        "                printf(\"%d \\t\", ventas_x_sucursal[i][j]);\n",
        "                total_test += ventas_x_sucursal[i][j];\n",
        "            }\n",
        "            printf(\"\\n\");\n",
        "\n",
        "        }\n",
        "        printf(\"Total Test: %d\\n\", total_test);\n",
        "        printf(\"\\n\");\n",
        "\n",
        "        // COMPLETAR CON CODIGO DEL ALUMNO\n",
        "        printf(\"%d\\n\", total);\n",
        "    }\n",
        "    else\n",
        "    {\n",
        "        printf(\"Por favor, ingrese la cantidad de sucursales\");\n",
        "    }\n",
        "}"
      ],
      "metadata": {
        "colab": {
          "base_uri": "https://localhost:8080/"
        },
        "id": "9mVlNAB3LIPV",
        "outputId": "2b534a5d-1fc2-4de2-eb8b-6c05b5aa491d"
      },
      "execution_count": null,
      "outputs": [
        {
          "output_type": "stream",
          "name": "stdout",
          "text": [
            "Overwriting trabajo_practico_3.cpp\n"
          ]
        }
      ]
    },
    {
      "cell_type": "code",
      "source": [
        "!g++ -o trabajo_practico_3 -fopenmp trabajo_practico_3.cpp"
      ],
      "metadata": {
        "id": "6IYJBEDViGh-"
      },
      "execution_count": null,
      "outputs": []
    },
    {
      "cell_type": "code",
      "source": [
        "%env OMP_NUM_THREADS=4\n",
        "!./trabajo_practico_3 5 3"
      ],
      "metadata": {
        "colab": {
          "base_uri": "https://localhost:8080/"
        },
        "id": "8B0nnr_PiJb1",
        "outputId": "d7de102e-dbc5-4a58-bc12-350f1d06a97b"
      },
      "execution_count": null,
      "outputs": [
        {
          "output_type": "stream",
          "name": "stdout",
          "text": [
            "env: OMP_NUM_THREADS=4\n",
            "78 \t30 \t7 \t\n",
            "32 \t71 \t10 \t\n",
            "85 \t11 \t85 \t\n",
            "26 \t11 \t96 \t\n",
            "70 \t80 \t21 \t\n",
            "Total Test: 713\n",
            "\n",
            "0\n"
          ]
        }
      ]
    },
    {
      "cell_type": "code",
      "source": [],
      "metadata": {
        "id": "M1X-2yAWiOmd"
      },
      "execution_count": null,
      "outputs": []
    }
  ]
}