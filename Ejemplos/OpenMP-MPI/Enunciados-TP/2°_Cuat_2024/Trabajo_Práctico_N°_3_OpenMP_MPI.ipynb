{
  "nbformat": 4,
  "nbformat_minor": 0,
  "metadata": {
    "colab": {
      "provenance": [],
      "include_colab_link": true
    },
    "kernelspec": {
      "name": "python3",
      "display_name": "Python 3"
    },
    "language_info": {
      "name": "python"
    }
  },
  "cells": [
    {
      "cell_type": "markdown",
      "metadata": {
        "id": "view-in-github",
        "colab_type": "text"
      },
      "source": [
        "<a href=\"https://colab.research.google.com/github/Progc-unlam/material-progc/blob/main/Trabajo_Pr%C3%A1ctico_N%C2%B0_3_OpenMP_MPI.ipynb\" target=\"_parent\"><img src=\"https://colab.research.google.com/assets/colab-badge.svg\" alt=\"Open In Colab\"/></a>"
      ]
    },
    {
      "cell_type": "markdown",
      "source": [
        "# Programación Concurrente - TP3 - Parte 1\n",
        "\n",
        "Utilizamos 2 prácticas con OpenMP desarrolladas en lenguaje C/C++ nativo en plataforma colab."
      ],
      "metadata": {
        "id": "wPdUHGeE_5a_"
      }
    },
    {
      "cell_type": "markdown",
      "source": [
        "# **OpenMP**"
      ],
      "metadata": {
        "id": "IpDd1kEHHIjC"
      }
    },
    {
      "cell_type": "markdown",
      "source": [
        "-----\n",
        "## Ejercicio 1 - Código Faltante\n",
        "Suponiendo que una empresa desea contabilizar las ventas totales de todas sus sucursales en un periodo de 15 días, se solicita completar la sección de código faltante con el objetivo de realizar dicha tarea de forma concurrente.\n",
        "\n",
        "Nota: El número de sucursales es un parámetro de entrada."
      ],
      "metadata": {
        "id": "S93FB7m0_9xg"
      }
    },
    {
      "cell_type": "code",
      "source": [
        "%%writefile total_ventas.cpp\n",
        "\n",
        "#include <omp.h>\n",
        "#include <stdio.h>\n",
        "#include <stdlib.h>\n",
        "\n",
        "#define SEED 4\n",
        "#define LIMIT_INF 0\n",
        "#define LIMIT_SUP 100\n",
        "#define DAYS 15\n",
        "\n",
        "\n",
        "int main(int argc, char* argv[]){\n",
        "    if(argv[1])\n",
        "    {\n",
        "        int count_suc = atoi( argv[1] );\n",
        "        int ventas_x_sucursal[count_suc][DAYS];\n",
        "        int total = 0;\n",
        "\n",
        "        srand(SEED);\n",
        "        for (int i = 0; i < count_suc; i++)\n",
        "        {\n",
        "            for (int j = 0; j < DAYS; j++)\n",
        "            {\n",
        "                ventas_x_sucursal[i][j] = (rand() % (LIMIT_SUP - LIMIT_INF + 1)) + LIMIT_INF;\n",
        "            }\n",
        "        }\n",
        "\n",
        "        for (int i = 0; i < count_suc; i++)\n",
        "        {\n",
        "            for (int j = 0; j < DAYS; j++)\n",
        "            {\n",
        "                printf(\"%d \\t\", ventas_x_sucursal[i][j]);\n",
        "            }\n",
        "            printf(\"\\n\");\n",
        "        }\n",
        "        // Complete el código aquí //\n",
        "\n",
        "        /////////////////////////////\n",
        "        printf(\"%d\\n\", total);\n",
        "    }\n",
        "    else\n",
        "    {\n",
        "        printf(\"Por favor, ingrese la cantidad de sucursales\");\n",
        "    }\n",
        "}"
      ],
      "metadata": {
        "colab": {
          "base_uri": "https://localhost:8080/"
        },
        "id": "S2f02POL_6XW",
        "outputId": "df1002b9-ff2d-4ed5-d8bd-fc9e228a71bc"
      },
      "execution_count": null,
      "outputs": [
        {
          "output_type": "stream",
          "name": "stdout",
          "text": [
            "Writing total_ventas.cpp\n"
          ]
        }
      ]
    },
    {
      "cell_type": "code",
      "source": [
        "!g++ -o total_ventas -fopenmp total_ventas.cpp"
      ],
      "metadata": {
        "id": "aW8BMn7XAXW7"
      },
      "execution_count": null,
      "outputs": []
    },
    {
      "cell_type": "code",
      "source": [
        "%env OMP_NUM_THREADS=5\n",
        "!./total_ventas 5"
      ],
      "metadata": {
        "colab": {
          "base_uri": "https://localhost:8080/"
        },
        "id": "xqhzH6FkAeSs",
        "outputId": "73b8b6ca-f7c1-47e2-c39a-dad9a26cbf43"
      },
      "execution_count": null,
      "outputs": [
        {
          "output_type": "stream",
          "name": "stdout",
          "text": [
            "env: OMP_NUM_THREADS=5\n",
            "78 \t30 \t7 \t32 \t71 \t10 \t85 \t11 \t85 \t26 \t11 \t96 \t70 \t80 \t21 \t\n",
            "52 \t85 \t65 \t62 \t20 \t59 \t97 \t83 \t82 \t47 \t78 \t98 \t67 \t2 \t39 \t\n",
            "47 \t46 \t70 \t20 \t78 \t6 \t31 \t62 \t18 \t15 \t54 \t96 \t10 \t23 \t76 \t\n",
            "98 \t42 \t26 \t62 \t3 \t46 \t20 \t100 \t95 \t69 \t12 \t73 \t32 \t79 \t75 \t\n",
            "72 \t93 \t87 \t7 \t12 \t65 \t13 \t9 \t93 \t98 \t24 \t47 \t94 \t1 \t36 \t\n",
            "0\n"
          ]
        }
      ]
    },
    {
      "cell_type": "markdown",
      "source": [
        "---\n",
        "## Ejercicio 2 - Axpy\n",
        "\n",
        "La función Axpy es parte de las bibliotecas BLAS [3]. Ella se encarga de realizar la suma de vectores, con la siguiente ecuación:\n",
        "\n",
        "<center>$Y = \\alpha X + Y$</center>\n",
        "\n",
        "En donde:\n",
        "> $\\alpha$: Es un escala.\n",
        "\n",
        "> $X$: Es el vector origen.\n",
        "\n",
        "> $Y$: Es el vector destino."
      ],
      "metadata": {
        "id": "IWesD0YiBJHA"
      }
    },
    {
      "cell_type": "markdown",
      "source": [
        "### Responda las siguientes preguntas:\n",
        "a) Ejecute el siguiente código:\n",
        "\n",
        "    - Con la variable cantidad_N para: 50, 500.000.\n",
        "    - Con los valores hilos: 1, 2, 8.\n",
        "    - Con 10 ciclos.\n",
        "\n",
        "b) Repita la prueba (a), con 100 ciclos. ¿Cuál fue la diferencia?\n",
        "\n",
        "c) ¿Cómo varía el SpeedUp a medida que aumenta o disminuye la cantidad de hilos?\n",
        "\n",
        "d) ¿Qué sucede con la eficiencia a medida que aumentan la cantidad_N?, ¿Porqué no llega al valor ideal?."
      ],
      "metadata": {
        "id": "F9shKNA_BXZ1"
      }
    },
    {
      "cell_type": "code",
      "source": [
        "%%writefile code_axpy.cpp\n",
        "// Axpy con OpenMP, usando c, ejecutado en Colab.\n",
        "\n",
        "#include <iostream>\n",
        "#include <vector>\n",
        "#include <cstdlib>\n",
        "#include <sys/time.h>\n",
        "#include <omp.h>    // Cabecera OpenMP\n",
        "\n",
        "// ----------------------------------------------------------------------------\n",
        "// Macros que miden el tiempo.\n",
        "\n",
        "static double dHashTiempoHistory[3];\n",
        "static struct timeval tv;\n",
        "\n",
        "#define TIEMPO_INI( h )      \\\n",
        "   gettimeofday(&tv,NULL);   \\\n",
        "   dHashTiempoHistory[ h ] = tv.tv_sec + tv.tv_usec/1000000.0;\n",
        "\n",
        "\n",
        "#define TIEMPO_FIN( h )      \\\n",
        "   gettimeofday(&tv,NULL);   \\\n",
        "   dHashTiempoHistory[ h ] = ((tv.tv_sec + tv.tv_usec/1000000.0) - dHashTiempoHistory[ h ]) * 1000; // Devuelvo en milisegundos\n",
        "#define TIEMPO_GET( h ) dHashTiempoHistory[ h ]\n",
        "\n",
        "#define HTH_TOTAL         1\n",
        "#define HTH_AXPY_SEC      2\n",
        "#define HTH_AXPY_OMP      3\n",
        "\n",
        "using namespace std;\n",
        "\n",
        "// ----------------------------------------------------------------------------\n",
        "\n",
        "void axpy( double alfa, vector<double> &X, vector<double> &Y )\n",
        "{\n",
        "  int i;\n",
        "\n",
        "  #pragma omp parallel for\n",
        "  for(i=0;i<Y.size();i++)\n",
        "  {\n",
        "    Y[i] = alfa * X[i] + Y[i];\n",
        "  }\n",
        "}\n",
        "\n",
        "// ----------------------------------------------------------------------------\n",
        "\n",
        "int main(int argc, char* argv[])\n",
        "{\n",
        "  int i,c;\n",
        "  TIEMPO_INI( HTH_TOTAL )\n",
        "\n",
        "  // Leo los parametros.\n",
        "  if( argc != 4 )\n",
        "  {\n",
        "      std::cerr<< \" Error en los parametros de indicar: (alfa), (Tamanio vector), (ciclos ejecucion).\"<<argc<<std::endl;\n",
        "      exit( -1 );\n",
        "  }\n",
        "\n",
        "  float alfa     = atof( argv[1] );\n",
        "  int cantidad_N = atoi( argv[2] );\n",
        "  int ciclos     = atoi( argv[3] );\n",
        "\n",
        "  // --------------------------------------------\n",
        "  // Defino la memoria de los vectores.\n",
        "\n",
        "  vector<double> X( cantidad_N );\n",
        "  vector<double> Y( cantidad_N );\n",
        "\n",
        "  for (int i=0;i<X.size();i++)\n",
        "  {\n",
        "    X[i] = (rand()/(double)RAND_MAX)*0.73;\n",
        "    Y[i] = (rand()/(double)RAND_MAX)*0.71;\n",
        "  }\n",
        "\n",
        "  // --------------------------------------------\n",
        "  // Realizo la función Axpy con OpenMP.\n",
        "\n",
        "  TIEMPO_INI( HTH_AXPY_OMP )\n",
        "\n",
        "  for(c=0;c<ciclos;c++)\n",
        "  {\n",
        "    axpy( alfa, X, Y );\n",
        "  }\n",
        "\n",
        "  TIEMPO_FIN( HTH_AXPY_OMP )\n",
        "\n",
        "  // --------------------------------------------\n",
        "  // Realizo la función Axpy en forma secuencial.\n",
        "\n",
        "  omp_set_num_threads(1);\n",
        "\n",
        "  TIEMPO_INI( HTH_AXPY_SEC )\n",
        "\n",
        "  for(c=0;c<ciclos;c++)\n",
        "  {\n",
        "    axpy( alfa, X, Y );\n",
        "  }\n",
        "\n",
        "  TIEMPO_FIN( HTH_AXPY_SEC )\n",
        "\n",
        "  TIEMPO_FIN( HTH_TOTAL )\n",
        "\n",
        " std::cout<<\"Valores Reales  :\" <<std::endl;\n",
        " std::cout<<\"Tiempo TOTAL     : \"<<TIEMPO_GET(HTH_TOTAL   )<<\" [ms]\"<<std::endl;\n",
        " std::cout<<\"Tiempo axpy Sec  : \"<<TIEMPO_GET(HTH_AXPY_SEC)<<\" [ms]\"<<std::endl;\n",
        " std::cout<<\"Tiempo axpy Omp  : \"<<TIEMPO_GET(HTH_AXPY_OMP)<<\" [ms]\"<<std::endl;\n",
        " std::cout<<std::endl;\n",
        " std::cout<<\"SpeedUp          : (tiempo Secuencial/tiempo paralelo) : \"<<TIEMPO_GET(HTH_AXPY_SEC)<<\" / \"<<TIEMPO_GET(HTH_AXPY_OMP)<<\" = \"<<TIEMPO_GET(HTH_AXPY_SEC)/TIEMPO_GET(HTH_AXPY_OMP)<<std::endl;\n",
        " std::cout<<\"Eficiencia       : SpeedUp/nro procesadores            : \"<<TIEMPO_GET(HTH_AXPY_SEC)/TIEMPO_GET(HTH_AXPY_OMP)<<\" / \"<<omp_get_num_procs()<<\" = \"<<TIEMPO_GET(HTH_AXPY_SEC)/(omp_get_num_procs()*TIEMPO_GET(HTH_AXPY_OMP))<<std::endl;\n",
        " std::cout<<\"Coste Sec        : nro procesadores*Tiempo Sec         : \"<<1<<\" * \"<<TIEMPO_GET(HTH_AXPY_SEC)<<\" = \"<<TIEMPO_GET(HTH_AXPY_SEC)<<std::endl;\n",
        " std::cout<<\"Coste Omp        : nro procesadores*Tiempo Paralelo    : \"<<omp_get_num_procs()<<\" * \"<<TIEMPO_GET(HTH_AXPY_OMP)<<\" = \"<<omp_get_num_procs()*TIEMPO_GET(HTH_AXPY_OMP)<<std::endl;\n",
        " std::cout<<\"Funcion Overhead : Coste Omp - tiempo Secuencial       : \"<<omp_get_num_procs()*TIEMPO_GET(HTH_AXPY_OMP)<<\" - \"<<TIEMPO_GET(HTH_AXPY_SEC)<<\" = \"<<(omp_get_num_procs()*TIEMPO_GET(HTH_AXPY_OMP))-TIEMPO_GET(HTH_AXPY_SEC)<<std::endl;\n",
        "\n",
        "\n",
        " std::cout<<std::endl;\n",
        " std::cout<<\"-------------------------------------------------------------------------------------\"<<std::endl;\n",
        " std::cout<<\"VALORES INDEALES:\"<<std::endl;\n",
        " std::cout<<\"-------------------------------------------------------------------------------------\"<<std::endl;\n",
        " TIEMPO_GET(HTH_AXPY_OMP) = TIEMPO_GET(HTH_AXPY_SEC) / omp_get_num_procs();\n",
        " std::cout<<\"Tiempo axpy Sec  : \"<<TIEMPO_GET(HTH_AXPY_SEC)<<\" [ms]\"<<std::endl;\n",
        " std::cout<<\"Tiempo axpy Omp  : \"<<TIEMPO_GET(HTH_AXPY_OMP)<<\" [ms]\"<<std::endl;\n",
        "\n",
        " std::cout<<\"SpeedUp          : (tiempo Secuencial/tiempo paralelo) : \"<<TIEMPO_GET(HTH_AXPY_SEC)<<\" / \"<<TIEMPO_GET(HTH_AXPY_OMP)<<\" = \"<<TIEMPO_GET(HTH_AXPY_SEC)/TIEMPO_GET(HTH_AXPY_OMP)<<std::endl;\n",
        " std::cout<<\"Eficiencia       : SpeedUp/nro procesadores            : \"<<TIEMPO_GET(HTH_AXPY_SEC)/TIEMPO_GET(HTH_AXPY_OMP)<<\" / \"<<omp_get_num_procs()<<\" = \"<<TIEMPO_GET(HTH_AXPY_SEC)/(omp_get_num_procs()*TIEMPO_GET(HTH_AXPY_OMP))<<std::endl;\n",
        " std::cout<<\"Coste Sec        : nro procesadores*Tiempo Sec         : \"<<1<<\" * \"<<TIEMPO_GET(HTH_AXPY_SEC)<<\" = \"<<TIEMPO_GET(HTH_AXPY_SEC)<<std::endl;\n",
        " std::cout<<\"Coste Omp        : nro procesadores*Tiempo Paralelo    : \"<<omp_get_num_procs()<<\" * \"<<TIEMPO_GET(HTH_AXPY_OMP)<<\" = \"<<omp_get_num_procs()*TIEMPO_GET(HTH_AXPY_OMP)<<std::endl;\n",
        " std::cout<<\"Funcion Overhead : Coste Omp - tiempo Secuencial       : \"<<omp_get_num_procs()*TIEMPO_GET(HTH_AXPY_OMP)<<\" - \"<<TIEMPO_GET(HTH_AXPY_SEC)<<\" = \"<<(omp_get_num_procs()*TIEMPO_GET(HTH_AXPY_OMP))-TIEMPO_GET(HTH_AXPY_SEC)<<std::endl;\n",
        "\n",
        "\n",
        "}\n",
        "// ----------------------------------------------------------------------------"
      ],
      "metadata": {
        "colab": {
          "base_uri": "https://localhost:8080/"
        },
        "id": "Uk-AzyYKBOPK",
        "outputId": "9aeaeb2f-6f36-4027-b740-ed0572d21dd9"
      },
      "execution_count": null,
      "outputs": [
        {
          "output_type": "stream",
          "name": "stdout",
          "text": [
            "Overwriting code_axpy.cpp\n"
          ]
        }
      ]
    },
    {
      "cell_type": "code",
      "source": [
        "!g++ -o axpy -fopenmp code_axpy.cpp"
      ],
      "metadata": {
        "id": "Fbc2AtIHBlZz"
      },
      "execution_count": null,
      "outputs": []
    },
    {
      "cell_type": "code",
      "source": [
        "# --------------------------------------------\n",
        "#@title Parámetros de ejecución { vertical-output: true }\n",
        "\n",
        "Cantidad_N = 500000#@param {type: \"number\"}\n",
        "Alfa       = 1.0#@param {type: \"number\"}\n",
        "Ciclos     = 100#@param {type: \"slider\", min: 0, max: 100, step: 10}\n",
        "Hilos      = \"8\"#@param [1, 2, 3, 5, 8]\n",
        "\n",
        "# --------------------------------------------\n",
        "\n",
        "%env OMP_NUM_THREADS=$Hilos\n",
        "!./axpy $Alfa $Cantidad_N $Ciclos"
      ],
      "metadata": {
        "colab": {
          "base_uri": "https://localhost:8080/"
        },
        "cellView": "form",
        "id": "Wput4JrxBnUq",
        "outputId": "e7fcab59-b418-4d56-aa4b-49524638070a"
      },
      "execution_count": null,
      "outputs": [
        {
          "output_type": "stream",
          "name": "stdout",
          "text": [
            "env: OMP_NUM_THREADS=8\n",
            "Valores Reales  :\n",
            "Tiempo TOTAL     : 1100.77 [ms]\n",
            "Tiempo axpy Sec  : 509.952 [ms]\n",
            "Tiempo axpy Omp  : 552.19 [ms]\n",
            "\n",
            "SpeedUp          : (tiempo Secuencial/tiempo paralelo) : 509.952 / 552.19 = 0.923508\n",
            "Eficiencia       : SpeedUp/nro procesadores            : 0.923508 / 2 = 0.461754\n",
            "Coste Sec        : nro procesadores*Tiempo Sec         : 1 * 509.952 = 509.952\n",
            "Coste Omp        : nro procesadores*Tiempo Paralelo    : 2 * 552.19 = 1104.38\n",
            "Funcion Overhead : Coste Omp - tiempo Secuencial       : 1104.38 - 509.952 = 594.428\n",
            "\n",
            "-------------------------------------------------------------------------------------\n",
            "VALORES INDEALES:\n",
            "-------------------------------------------------------------------------------------\n",
            "Tiempo axpy Sec  : 509.952 [ms]\n",
            "Tiempo axpy Omp  : 254.976 [ms]\n",
            "SpeedUp          : (tiempo Secuencial/tiempo paralelo) : 509.952 / 254.976 = 2\n",
            "Eficiencia       : SpeedUp/nro procesadores            : 2 / 2 = 1\n",
            "Coste Sec        : nro procesadores*Tiempo Sec         : 1 * 509.952 = 509.952\n",
            "Coste Omp        : nro procesadores*Tiempo Paralelo    : 2 * 254.976 = 509.952\n",
            "Funcion Overhead : Coste Omp - tiempo Secuencial       : 509.952 - 509.952 = 0\n"
          ]
        }
      ]
    },
    {
      "cell_type": "markdown",
      "source": [
        "---\n",
        "\n",
        "# Medidas de prestaciones en algoritmos paralelos\n",
        "Las técnicas de HPC buscan reducir los tiempos de ejecución, el tiempo como medida, no alcanza. Dos algoritmos pueden ejecutar en el mismo tiempo, pero uno de ellos usa menos procesadores [6,7].\n"
      ],
      "metadata": {
        "id": "takDW2_uBwr6"
      }
    },
    {
      "cell_type": "markdown",
      "source": [
        "## SpeedUp\n",
        "Referencia a la ganancia de velocidad que se consigue con un algoritmo paralelo, al resolver el mismo problema con respecto al algoritmo secuencial.\n",
        "\n",
        "<center>$ SpeedUp = \\frac{Tiempo\\_Secuencial}{Tiempo\\_Paralelo} $</center>\n",
        "\n"
      ],
      "metadata": {
        "id": "P8ZBqWlwBwjZ"
      }
    },
    {
      "cell_type": "markdown",
      "source": [
        "##Eficiencia\n",
        "La eficiencia normaliza el valor del SpeedUp, al dividirlo por la cantidad de procesadores que se utilizaron para alcanzar la ganancia en velocidad. Dando la idea de la porción de tiempo que los procesadores se dedican al trabajo útil.\n",
        "\n",
        "<center>$ Eficiencia = \\frac{SpeedUp}{Nro\\_Procesadores} $</center>\n"
      ],
      "metadata": {
        "id": "XwCwfjKBBwbO"
      }
    },
    {
      "cell_type": "markdown",
      "source": [
        "## Coste\n",
        "El coste de un algoritmo paralelo representa el tiempo realizado por todo el sistema en la resolución del problema.\n",
        "\n",
        "<center>$ coste = Nro\\_Procesadores \\times Tiempo\\_Algoritmo$</center>\n"
      ],
      "metadata": {
        "id": "yZIDOFO9BwTQ"
      }
    },
    {
      "cell_type": "markdown",
      "source": [
        "## Función Overhead\n",
        "Es la diferencia entre el Coste y el tiempo secuencial. Mientras mayor es la función overhead, peor es el comportamiento del algoritmo paralelo.\n",
        "\n",
        "<center>$ Overhead = {Coste}-{Tiempo\\_Secuencial} $</center>\n",
        "\n",
        "---"
      ],
      "metadata": {
        "id": "yMz0uTWzBwLI"
      }
    },
    {
      "cell_type": "markdown",
      "source": [
        "# **MPI**"
      ],
      "metadata": {
        "id": "qbJhLVVMHNro"
      }
    },
    {
      "cell_type": "markdown",
      "source": [
        "---\n",
        "## Ejercicio 3 - Contar palabras"
      ],
      "metadata": {
        "id": "UQ6eeEHnHRe8"
      }
    },
    {
      "cell_type": "markdown",
      "source": [
        "### 3.1 Armado del ambiente\n",
        "\n",
        "Es en donde se instalar, por única vez, el módulo MPI4py de Python en el cuaderno."
      ],
      "metadata": {
        "id": "LaXu_Ba3H3rU"
      }
    },
    {
      "cell_type": "code",
      "source": [
        "!pip install mpi4py"
      ],
      "metadata": {
        "colab": {
          "base_uri": "https://localhost:8080/"
        },
        "id": "hE4F2svIH82P",
        "outputId": "302d271e-5a34-46c6-bc90-b229a2d42d54"
      },
      "execution_count": null,
      "outputs": [
        {
          "output_type": "stream",
          "name": "stdout",
          "text": [
            "Collecting mpi4py\n",
            "  Downloading mpi4py-3.1.6.tar.gz (2.4 MB)\n",
            "\u001b[2K     \u001b[90m━━━━━━━━━━━━━━━━━━━━━━━━━━━━━━━━━━━━━━━━\u001b[0m \u001b[32m2.4/2.4 MB\u001b[0m \u001b[31m24.6 MB/s\u001b[0m eta \u001b[36m0:00:00\u001b[0m\n",
            "\u001b[?25h  Installing build dependencies ... \u001b[?25l\u001b[?25hdone\n",
            "  Getting requirements to build wheel ... \u001b[?25l\u001b[?25hdone\n",
            "  Preparing metadata (pyproject.toml) ... \u001b[?25l\u001b[?25hdone\n",
            "Building wheels for collected packages: mpi4py\n",
            "  Building wheel for mpi4py (pyproject.toml) ... \u001b[?25l\u001b[?25hdone\n",
            "  Created wheel for mpi4py: filename=mpi4py-3.1.6-cp310-cp310-linux_x86_64.whl size=2746316 sha256=fc956e7a2a84cd52b63a3739e3dacc1ddff0b020c36aa8aecb30663153820439\n",
            "  Stored in directory: /root/.cache/pip/wheels/4c/ca/89/8fc1fb1c620afca13bb41c630b1f948bbf446e0aaa4b762e10\n",
            "Successfully built mpi4py\n",
            "Installing collected packages: mpi4py\n",
            "Successfully installed mpi4py-3.1.6\n"
          ]
        }
      ]
    },
    {
      "cell_type": "markdown",
      "source": [
        "Desarrollar un programa que permita obtener el valor máximo de un conjunto dado de forma distribuida.\n",
        "\n",
        "Las condiciones a tener en cuenta son:\n",
        "\n",
        "\n",
        "*   Debe trabajar con al menos, 4 procesos.\n",
        "*   El resultado final debe ser informado en **cada proceso**.\n",
        "*   Implementar comunicación por Buffer\n",
        "\n",
        "Salida esperada:\n",
        "```\n",
        "Máximo esperado:  4.0007135387559405\n",
        "Máximo total:  4.0007135387559405\n",
        "Proceso 0: 4.0007135387559405\n",
        "Proceso 5: 4.0007135387559405\n",
        "Proceso 1: 4.0007135387559405\n",
        "Proceso 3: 4.0007135387559405\n",
        "Proceso 2: 4.0007135387559405\n",
        "Proceso 4: 4.0007135387559405\n",
        "```\n",
        "\n"
      ],
      "metadata": {
        "id": "EOcL6z4mHRP-"
      }
    },
    {
      "cell_type": "code",
      "source": [
        "%%writefile mpi_tp4.py\n",
        "\n",
        "from mpi4py import MPI\n",
        "import numpy as np\n",
        "from IPython.display import display\n",
        "comm = MPI.COMM_WORLD\n",
        "size = comm.Get_size()\n",
        "rank = comm.Get_rank()\n",
        "\n",
        "count = 5000\n",
        "sendbuf = None\n",
        "\n",
        "if rank == 0:\n",
        "  sendbuf = np.random.randn(size, count)\n",
        "  display(\"Máximo esperado: \", sendbuf.max())\n",
        "\n",
        "###### Inicio de código ######\n",
        "\n",
        "##############################"
      ],
      "metadata": {
        "colab": {
          "base_uri": "https://localhost:8080/"
        },
        "id": "cKolTVa3HP_8",
        "outputId": "6ce54f7c-03d1-4a65-94c4-481b3d10f1c3"
      },
      "execution_count": null,
      "outputs": [
        {
          "output_type": "stream",
          "name": "stdout",
          "text": [
            "Overwriting mpi_tp4.py\n"
          ]
        }
      ]
    },
    {
      "cell_type": "code",
      "source": [
        "# --------------------------------------------\n",
        "# Formulario\n",
        "NRO =   6#@param {type: \"slider\", min: 4, max: 10}\n",
        "# --------------------------------------------\n",
        "\n",
        "! mpirun --oversubscribe --allow-run-as-root -np $NRO python mpi_tp4.py"
      ],
      "metadata": {
        "colab": {
          "base_uri": "https://localhost:8080/"
        },
        "id": "q7pxyo-RHtjI",
        "outputId": "2398ede9-338a-4496-d6aa-9ad4e3218061"
      },
      "execution_count": null,
      "outputs": [
        {
          "output_type": "stream",
          "name": "stdout",
          "text": [
            "Máximo esperado:  4.01561525378836\n"
          ]
        }
      ]
    },
    {
      "cell_type": "markdown",
      "source": [
        "---\n",
        "# Bibliografía\n",
        "\n",
        "[1] MARKDOWN SYNTAX Colab: [PDF](https://github.com/wvaliente/SOA_HPC/blob/main/Documentos/markdown-cheatsheet-online.pdf)\n",
        "\n",
        "[2] Introducción a Python: [Página Colab](https://github.com/wvaliente/SOA_HPC/blob/main/Documentos/Python_Basico.ipynb)\n",
        "\n",
        "[3] Función Axpy de biblioteca BLAS: [Referencia](https://software.intel.com/content/www/us/en/develop/documentation/mkl-developer-reference-c/top/blas-and-sparse-blas-routines/blas-routines/blas-level-1-routines-and-functions/cblas-axpy.html)\n",
        "\n",
        "[4] Biblioteca BLAS: [Referencia](http://www.netlib.org/blas/)\n",
        "\n",
        "[5] Tutorial Point Colab: [PDF](https://github.com/wvaliente/SOA_HPC/blob/main/Documentos/markdown-cheatsheet-online.pdf)\n",
        "\n",
        "[6] F. Almeida, D. Gimenéz, A. Vidal - Introducción a la programación paralela - 2008 - Editorial Parafino.\n",
        "\n",
        "[7] D. Jiménez-González - Introducción a las arquitecturas paralelas. [PDF](http://so-unlam.com.ar/material-clase/HPC/Arquitecturas_de_computadores_avanzadas_(Modulo_1).pdf)\n",
        "\n",
        "[8] Github OMP Parte 1 [Link](https://github.com/MicrosoftDocs/cpp-docs/blob/main/docs/parallel/openmp/reference/openmp-directives.md#atomic)\n",
        "\n",
        "[9] Github OMP Parte 2 [Link](https://github.com/MicrosoftDocs/cpp-docs/blob/main/docs/parallel/openmp/reference/openmp-clauses.md#nowait)\n",
        "\n",
        "[10] Funciones OMP [Link](https://learn.microsoft.com/en-us/cpp/parallel/openmp/reference/openmp-functions?view=msvc-170)\n",
        "\n",
        "[11] Directivas OMP [Link](https://learn.microsoft.com/es-es/cpp/parallel/openmp/reference/openmp-directives?view=msvc-170)"
      ],
      "metadata": {
        "id": "SL1Kjey5CFKG"
      }
    }
  ]
}