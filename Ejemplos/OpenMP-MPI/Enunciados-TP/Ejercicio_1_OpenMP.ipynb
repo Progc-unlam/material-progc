{
  "nbformat": 4,
  "nbformat_minor": 0,
  "metadata": {
    "colab": {
      "provenance": [],
      "private_outputs": true,
      "collapsed_sections": [
        "apisS7HOLQqF",
        "R2CUqGa2NSPh",
        "NO--9RYTNe91",
        "wHjoeL_wLguS",
        "wxsaxk7FSkmh",
        "3ClX3MgbLn2m",
        "Po1U26ujLs1I",
        "mJxlhR-PHc4M",
        "rBsWMz-fIEaW",
        "feerSPFJI4UV",
        "H-B-4e3gJWp2",
        "B4IHd-IqdvT1"
      ]
    },
    "kernelspec": {
      "display_name": "Python 3",
      "name": "python3"
    }
  },
  "cells": [
    {
      "cell_type": "markdown",
      "metadata": {
        "id": "th1ZsKBrRMrn"
      },
      "source": [
        "# Programacion Concurrente - TP2 - Parte 1\n",
        "\n",
        "Utilizamos 2 prácticas con OpenMP desarrolladas en lenguaje C/C++ nativo en plataforma colab. \n"
      ]
    },
    {
      "cell_type": "markdown",
      "metadata": {
        "id": "XtuoNACar7c-"
      },
      "source": [
        "---\n",
        "## 1.1. Ejercicio 1 - Hola Mundo estilo Programacion Concurrente\n"
      ]
    },
    {
      "cell_type": "markdown",
      "source": [
        "### 1.1.1. Preguntas ejercicio 1:\n",
        "\n",
        "a) Identifique los 3 componentes de openMP en el ejercicio 1.\n",
        "\n",
        "b) Realice pruebas modificando la cantidad de hilos (1, 3, 7). Que conclusiones pudo determinar?.\n",
        "\n",
        "c) ¿Cuál es la diferencia las formas de asignación *static* y *dynamic* en la cláusula *schedule*?, ¿Qué sucede si utiliza *dynamic* en el código?\n",
        "\n",
        "d) En el for: ¿Que sucede con el valor de j, sí se parametriza como lastprivate?\n"
      ],
      "metadata": {
        "id": "apisS7HOLQqF"
      }
    },
    {
      "cell_type": "markdown",
      "source": [
        "### 1.1.2. Código Lenguaje C "
      ],
      "metadata": {
        "id": "QQDtKmswLVOm"
      }
    },
    {
      "cell_type": "code",
      "metadata": {
        "id": "fEbO8EXWm4mL"
      },
      "source": [
        "%%writefile code.cpp\n",
        "\n",
        "// Hola Mundo desde OpenMP, usando c, ejecutado en Colab. \n",
        "\n",
        "#include <iostream>\n",
        "#include <vector>\n",
        "#include <omp.h>    // Cabecera OpenMP   \n",
        "  \n",
        "int main(int argc, char* argv[]) \n",
        "{\n",
        "  int i,j=0;\n",
        "  std::cout<<\"Inicio...\"<<std::endl;\n",
        "\n",
        "  //-----------------------------------------------------------------------------------------------\n",
        "  // Region paralela\n",
        "  #pragma omp parallel\n",
        "  { \n",
        "    std::cout<<\"Hola mundo!!!... soy el hilo \" << omp_get_thread_num()<< \", de \"<<  omp_get_num_threads() <<\", procesadores \"<< omp_get_num_procs()<< std::endl;  \n",
        "\n",
        "    #pragma omp single\n",
        "    {\n",
        "      std::cout<<\"Hola mundo!!!... soy el hilo \" << omp_get_thread_num()<< \" uno de muchos.\"<< std::endl;\n",
        "    }\n",
        "    #pragma omp master\n",
        "    {\n",
        "      std::cout<<\"Hola mundo!!!... soy el hilo maestro: \" << omp_get_thread_num()<< std::endl;\n",
        "    }\n",
        "\n",
        "    #pragma omp for schedule(dynamic, 5)\n",
        "    for(i=0;i<20;i++)\n",
        "    {\n",
        "      j++;\n",
        "      std::cout<<\"Hola mundo!!!... soy el hilo \" << omp_get_thread_num()<< \", itero para i .\"<<i<<\", actualizo j \"<<j<< std::endl;\n",
        "    }\n",
        "  }\n",
        "  // Region paralela\n",
        "  //-----------------------------------------------------------------------------------------------\n",
        "\n",
        "  std::cout<<\"Fin..., con j=\"<<j<<std::endl;\n",
        "}"
      ],
      "execution_count": null,
      "outputs": []
    },
    {
      "cell_type": "markdown",
      "metadata": {
        "id": "R2CUqGa2NSPh"
      },
      "source": [
        "### 1.1.3 Compilación de Hola Mundo. "
      ]
    },
    {
      "cell_type": "code",
      "metadata": {
        "id": "xLk4a5lTnOEI"
      },
      "source": [
        "!g++ -o hello -fopenmp code.cpp"
      ],
      "execution_count": null,
      "outputs": []
    },
    {
      "cell_type": "markdown",
      "metadata": {
        "id": "NO--9RYTNe91"
      },
      "source": [
        "### 1.1.4. Ejecución Hola Mundo en OpenMP."
      ]
    },
    {
      "cell_type": "code",
      "metadata": {
        "id": "98G8IH-NnGHQ"
      },
      "source": [
        "%env OMP_NUM_THREADS=5\n",
        "!./hello"
      ],
      "execution_count": null,
      "outputs": []
    },
    {
      "cell_type": "markdown",
      "metadata": {
        "id": "3PQxHPkDdo42"
      },
      "source": [
        "---\n",
        "## 1.2. Ejercicio 2 - Axpy\n",
        "\n",
        "La función Axpy es parte de las bibliotecas BLAS [3]. Ella se encarga de realizar la suma de vectores, con la siguiente ecuación:\n",
        "\n",
        "<center>$Y = \\alpha X + Y$</center>\n",
        "\n",
        "En donde:\n",
        "> $\\alpha$: Es un escala.\n",
        "\n",
        "> $X$: Es el vector origen.\n",
        "\n",
        "> $Y$: Es el vector destino.\n"
      ]
    },
    {
      "cell_type": "markdown",
      "source": [
        "### 1.2.1 Preguntas Ejercicio 2\n",
        "a) Ejecute el ejercicio 1.2.2:\n",
        "\n",
        "    - Con la variable cantidad_N para: 50, 500, 5.000.\n",
        "    - Con los valores hilos_ 2, 4, 6.\n",
        "\n",
        "b) Repita la prueba (a), con ciclos 1, 10, 30. ¿Cuál fue la diferencia?\n",
        "\n",
        "c) ¿Por qué el SpeedUp no mejora a medida que aumentan la cantidad de hilos?\n",
        "\n",
        "d) ¿Qué sucede con la eficiencia a medida que aumentan la cantidad_N?¿Porqué no llega al valor ideal?."
      ],
      "metadata": {
        "id": "wHjoeL_wLguS"
      }
    },
    {
      "cell_type": "markdown",
      "source": [
        "### 1.2.2 Código Lenguaje C "
      ],
      "metadata": {
        "id": "wxsaxk7FSkmh"
      }
    },
    {
      "cell_type": "code",
      "metadata": {
        "id": "zLE3iWiJsM0G"
      },
      "source": [
        "%%writefile code_axpy.cpp\n",
        "// Axpy con OpenMP, usando c, ejecutado en Colab. \n",
        "\n",
        "#include <iostream>\n",
        "#include <vector>\n",
        "#include <cstdlib>\n",
        "#include <sys/time.h>\n",
        "#include <omp.h>    // Cabecera OpenMP   \n",
        "\n",
        "// ----------------------------------------------------------------------------\n",
        "// Macros que miden el tiempo.\n",
        "\n",
        "static double dHashTiempoHistory[3];\n",
        "static struct timeval tv;\n",
        "\n",
        "#define TIEMPO_INI( h )      \\\n",
        "   gettimeofday(&tv,NULL);   \\\n",
        "   dHashTiempoHistory[ h ] = tv.tv_sec + tv.tv_usec/1000000.0;\n",
        "   \n",
        "   \n",
        "#define TIEMPO_FIN( h )      \\\n",
        "   gettimeofday(&tv,NULL);   \\\n",
        "   dHashTiempoHistory[ h ] = ((tv.tv_sec + tv.tv_usec/1000000.0) - dHashTiempoHistory[ h ]) * 1000; // Devuelvo en milisegundos\n",
        "#define TIEMPO_GET( h ) dHashTiempoHistory[ h ]\n",
        "\n",
        "#define HTH_TOTAL         1\n",
        "#define HTH_AXPY_SEC      2\n",
        "#define HTH_AXPY_OMP      3\n",
        "\n",
        "using namespace std;\n",
        "\n",
        "// ----------------------------------------------------------------------------\n",
        "\n",
        "void axpy( double alfa, vector<double> &X, vector<double> &Y )\n",
        "{\n",
        "  int i;\n",
        "\n",
        "  #pragma omp parallel for\n",
        "  for(i=0;i<Y.size();i++)\n",
        "  {\n",
        "    Y[i] = alfa * X[i] + Y[i];\n",
        "  }\n",
        "}\n",
        "\n",
        "// ----------------------------------------------------------------------------\n",
        "\n",
        "int main(int argc, char* argv[]) \n",
        "{ \n",
        "  int i,c;\n",
        "  TIEMPO_INI( HTH_TOTAL )\n",
        "\n",
        "  // Leo los parametros.\n",
        "  if( argc != 4 )\n",
        "  {\n",
        "      std::cerr<< \" Error en los parametros de indicar: (alfa), (Tamanio vector), (ciclos ejecucion).\"<<argc<<std::endl;\n",
        "      exit( -1 );\n",
        "  }\n",
        "\n",
        "  float alfa     = atof( argv[1] );\n",
        "  int cantidad_N = atoi( argv[2] );\n",
        "  int ciclos     = atoi( argv[3] );\n",
        "\n",
        "  // --------------------------------------------\n",
        "  // Defino la memoria de los vectores.\n",
        "\n",
        "  vector<double> X( cantidad_N );\n",
        "  vector<double> Y( cantidad_N );\n",
        "\n",
        "  for (int i=0;i<X.size();i++)\n",
        "  {\n",
        "    X[i] = (rand()/(double)RAND_MAX)*0.73;\n",
        "    Y[i] = (rand()/(double)RAND_MAX)*0.71;\n",
        "  }\n",
        "\n",
        "  // --------------------------------------------\n",
        "  // Realizo la función Axpy con OpenMP.\n",
        "\n",
        "  TIEMPO_INI( HTH_AXPY_OMP )\n",
        "\n",
        "  for(c=0;c<ciclos;c++)\n",
        "  {\n",
        "    axpy( alfa, X, Y );\n",
        "  }\n",
        "\n",
        "  TIEMPO_FIN( HTH_AXPY_OMP )\n",
        "\n",
        "  // --------------------------------------------\n",
        "  // Realizo la función Axpy en forma secuencial.\n",
        "\n",
        "  omp_set_num_threads(1);\n",
        "\n",
        "  TIEMPO_INI( HTH_AXPY_SEC )\n",
        "\n",
        "  for(c=0;c<ciclos;c++)\n",
        "  {\n",
        "    axpy( alfa, X, Y );\n",
        "  }\n",
        "\n",
        "  TIEMPO_FIN( HTH_AXPY_SEC )\n",
        "\n",
        "  TIEMPO_FIN( HTH_TOTAL )\n",
        "\n",
        " std::cout<<\"Valores Reales  :\" <<std::endl;\n",
        " std::cout<<\"Tiempo TOTAL     : \"<<TIEMPO_GET(HTH_TOTAL   )<<\" [ms]\"<<std::endl;\n",
        " std::cout<<\"Tiempo axpy Sec  : \"<<TIEMPO_GET(HTH_AXPY_SEC)<<\" [ms]\"<<std::endl;\n",
        " std::cout<<\"Tiempo axpy Omp  : \"<<TIEMPO_GET(HTH_AXPY_OMP)<<\" [ms]\"<<std::endl;\n",
        " std::cout<<std::endl;\n",
        " std::cout<<\"SpeedUp          : (tiempo Secuencial/tiempo paralelo) : \"<<TIEMPO_GET(HTH_AXPY_SEC)<<\" / \"<<TIEMPO_GET(HTH_AXPY_OMP)<<\" = \"<<TIEMPO_GET(HTH_AXPY_SEC)/TIEMPO_GET(HTH_AXPY_OMP)<<std::endl;\n",
        " std::cout<<\"Eficiencia       : SpeedUp/nro procesadores            : \"<<TIEMPO_GET(HTH_AXPY_SEC)/TIEMPO_GET(HTH_AXPY_OMP)<<\" / \"<<omp_get_num_procs()<<\" = \"<<TIEMPO_GET(HTH_AXPY_SEC)/(omp_get_num_procs()*TIEMPO_GET(HTH_AXPY_OMP))<<std::endl;\n",
        " std::cout<<\"Coste Sec        : nro procesadores*Tiempo             : \"<<1<<\" * \"<<TIEMPO_GET(HTH_AXPY_SEC)<<\" = \"<<TIEMPO_GET(HTH_AXPY_SEC)<<std::endl;\n",
        " std::cout<<\"Coste Omp        : nro procesadores*Tiempo             : \"<<omp_get_num_procs()<<\" * \"<<TIEMPO_GET(HTH_AXPY_OMP)<<\" = \"<<omp_get_num_procs()*TIEMPO_GET(HTH_AXPY_OMP)<<std::endl;\n",
        " std::cout<<\"Funcion Overhead : Coste Omp - tiempo Secuencial       : \"<<omp_get_num_procs()*TIEMPO_GET(HTH_AXPY_OMP)<<\" - \"<<TIEMPO_GET(HTH_AXPY_SEC)<<\" = \"<<(omp_get_num_procs()*TIEMPO_GET(HTH_AXPY_OMP))-TIEMPO_GET(HTH_AXPY_SEC)<<std::endl;\n",
        "\n",
        "\n",
        " std::cout<<std::endl;\n",
        " std::cout<<\"Valores Ideal: \"<<std::endl;\n",
        " TIEMPO_GET(HTH_AXPY_OMP) = TIEMPO_GET(HTH_AXPY_SEC) / omp_get_num_procs();\n",
        " std::cout<<\"Tiempo axpy Sec  : \"<<TIEMPO_GET(HTH_AXPY_SEC)<<\" [ms]\"<<std::endl;\n",
        " std::cout<<\"Tiempo axpy Omp  : \"<<TIEMPO_GET(HTH_AXPY_OMP)<<\" [ms]\"<<std::endl;\n",
        "\n",
        " std::cout<<\"SpeedUp          : (tiempo Secuencial/tiempo paralelo) : \"<<TIEMPO_GET(HTH_AXPY_SEC)<<\" / \"<<TIEMPO_GET(HTH_AXPY_OMP)<<\" = \"<<TIEMPO_GET(HTH_AXPY_SEC)/TIEMPO_GET(HTH_AXPY_OMP)<<std::endl;\n",
        " std::cout<<\"Eficiencia       : SpeedUp/nro procesadores            : \"<<TIEMPO_GET(HTH_AXPY_SEC)/TIEMPO_GET(HTH_AXPY_OMP)<<\" / \"<<omp_get_num_procs()<<\" = \"<<TIEMPO_GET(HTH_AXPY_SEC)/(omp_get_num_procs()*TIEMPO_GET(HTH_AXPY_OMP))<<std::endl;\n",
        " std::cout<<\"Coste Sec        : nro procesadores*Tiempo             : \"<<1<<\" * \"<<TIEMPO_GET(HTH_AXPY_SEC)<<\" = \"<<TIEMPO_GET(HTH_AXPY_SEC)<<std::endl;\n",
        " std::cout<<\"Coste Omp        : nro procesadores*Tiempo             : \"<<omp_get_num_procs()<<\" * \"<<TIEMPO_GET(HTH_AXPY_OMP)<<\" = \"<<omp_get_num_procs()*TIEMPO_GET(HTH_AXPY_OMP)<<std::endl;\n",
        " std::cout<<\"Funcion Overhead : Coste Omp - tiempo Secuencial       : \"<<omp_get_num_procs()*TIEMPO_GET(HTH_AXPY_OMP)<<\" - \"<<TIEMPO_GET(HTH_AXPY_SEC)<<\" = \"<<(omp_get_num_procs()*TIEMPO_GET(HTH_AXPY_OMP))-TIEMPO_GET(HTH_AXPY_SEC)<<std::endl;\n",
        "\n",
        "\n",
        "}\n",
        "// ----------------------------------------------------------------------------"
      ],
      "execution_count": null,
      "outputs": []
    },
    {
      "cell_type": "markdown",
      "metadata": {
        "id": "3ClX3MgbLn2m"
      },
      "source": [
        "### 1.2.3. Compilación de código C Axpy. "
      ]
    },
    {
      "cell_type": "code",
      "metadata": {
        "id": "b2PUrH_7tKUS"
      },
      "source": [
        "!g++ -o axpy -fopenmp code_axpy.cpp"
      ],
      "execution_count": null,
      "outputs": []
    },
    {
      "cell_type": "markdown",
      "metadata": {
        "id": "Po1U26ujLs1I"
      },
      "source": [
        "### 1.2.4. Ejecución Axpy."
      ]
    },
    {
      "cell_type": "code",
      "metadata": {
        "id": "3Qt_B3jHuHyR"
      },
      "source": [
        "# --------------------------------------------\n",
        "#@title Parámetros de ejecución { vertical-output: true }\n",
        "\n",
        "Cantidad_N = 50#@param {type: \"number\"}\n",
        "Alfa       = 1.0#@param {type: \"number\"}\n",
        "Ciclos     = 10#@param {type: \"slider\", min: 10, max: 200}\n",
        "Hilos      = 2#@param {type: \"slider\", min: 1, max: 10}\n",
        "\n",
        "# --------------------------------------------\n",
        "\n",
        "%env OMP_NUM_THREADS=$Hilos\n",
        "!./axpy $Alfa $Cantidad_N $Ciclos"
      ],
      "execution_count": null,
      "outputs": []
    },
    {
      "cell_type": "markdown",
      "metadata": {
        "id": "1aL0jXjFGn9C"
      },
      "source": [
        "---\n",
        "# Medidas de prestaciones en algoritmos paralelos\n",
        "Las técnicas de HPC buscan reducir los tiempos de ejecución, el tiempo como medida, no alcanza. Dos algoritmos pueden ejecutar en el mismo tiempo, pero uno de ellos usa menos procesadores [6,7]. \n"
      ]
    },
    {
      "cell_type": "markdown",
      "metadata": {
        "id": "mJxlhR-PHc4M"
      },
      "source": [
        "## SpeedUp\n",
        "Referencia a la ganancia de velocidad que se consigue con un algoritmo paralelo, al resolver el mismo problema con respecto al algoritmo secuencial.\n",
        "\n",
        "<center>$ SpeedUp = \\frac{Tiempo\\_Secuencial}{Tiempo\\_Paralelo} $</center>\n",
        "\n"
      ]
    },
    {
      "cell_type": "markdown",
      "metadata": {
        "id": "rBsWMz-fIEaW"
      },
      "source": [
        "##Eficiencia\n",
        "La eficiencia normaliza el valor del SpeedUp, al dividirlo por la cantidad de procesadores que se utilizaron para alcanzar la ganancia en velocidad. Dando la idea de la porción de tiempo que los procesadores se dedican al trabajo útil.\n",
        "\n",
        "<center>$ Eficiencia = \\frac{SpeedUp}{Nro\\_Procesadores} $</center>\n"
      ]
    },
    {
      "cell_type": "markdown",
      "metadata": {
        "id": "feerSPFJI4UV"
      },
      "source": [
        "## Coste\n",
        "El coste de un algoritmo paralelo representa el tiempo realizado por todo el sistema en la resolución del problema.\n",
        "\n",
        "<center>$ coste = Nro\\_Procesadores \\times Tiempo\\_Algoritmo$</center>\n"
      ]
    },
    {
      "cell_type": "markdown",
      "metadata": {
        "id": "H-B-4e3gJWp2"
      },
      "source": [
        "## Función Overhead\n",
        "Es la diferencia entre el Coste y el tiempo secuencial. Mientras mayor es la función overhead, peor es el comportamiento del algoritmo paralelo.\n",
        "\n",
        "<center>$ Overhead = {Coste}-{Tiempo\\_Secuencial} $</center>\n",
        "\n",
        "---"
      ]
    },
    {
      "cell_type": "code",
      "metadata": {
        "id": "_tk2gqAyQKy_"
      },
      "source": [
        "!cat /proc/cpuinfo"
      ],
      "execution_count": null,
      "outputs": []
    },
    {
      "cell_type": "markdown",
      "metadata": {
        "id": "B4IHd-IqdvT1"
      },
      "source": [
        "---\n",
        "# Bibliografía\n",
        "[1] Función Axpy de biblioteca BLAS: [Referencia](https://software.intel.com/content/www/us/en/develop/documentation/mkl-developer-reference-c/top/blas-and-sparse-blas-routines/blas-routines/blas-level-1-routines-and-functions/cblas-axpy.html)\n",
        "\n",
        "[3] Biblioteca BLAS: [Referencia](http://www.netlib.org/blas/)\n",
        "\n",
        "[4] F. Almeida, D. Gimenéz, A. Vidal - Introducción a la programación paralela - 2008 - Editorial Parafino.\n",
        "\n",
        "[5] D. Jiménez-González - Introducción a las arquitecturas paralelas. [PDF](http://progc-unlam.com.ar/material-clase/OpenMP-MPI/Introducci%C3%B3n%20a%20la%20Computaci%C3%B3n%20Paralela.pdf)"
      ]
    }
  ]
}