{
  "nbformat": 4,
  "nbformat_minor": 0,
  "metadata": {
    "colab": {
      "provenance": [],
      "authorship_tag": "ABX9TyO/nLpF3j9eix3BkKm2HjF6",
      "include_colab_link": true
    },
    "kernelspec": {
      "name": "python3",
      "display_name": "Python 3"
    },
    "language_info": {
      "name": "python"
    }
  },
  "cells": [
    {
      "cell_type": "markdown",
      "metadata": {
        "id": "view-in-github",
        "colab_type": "text"
      },
      "source": [
        "<a href=\"https://colab.research.google.com/github/Progc-unlam/material-progc/blob/main/Ejemplos/Comunicacion/Python/Clase_07_05_2025.ipynb\" target=\"_parent\"><img src=\"https://colab.research.google.com/assets/colab-badge.svg\" alt=\"Open In Colab\"/></a>"
      ]
    },
    {
      "cell_type": "code",
      "source": [
        "import os\n",
        "import signal\n",
        "import sys\n",
        "import time\n",
        "\n",
        "CHILD = 0\n",
        "\n",
        "def manejador(sig, frame):\n",
        "    sys.stdout.write(f\"Recibido {signal.Signals(sig).name}\\n\")\n",
        "    #Info básica del objeto frame (Frame Object o PyFrameObject)\n",
        "    #print(frame)\n",
        "\n",
        "def main():\n",
        "    signal.signal(signal.SIGCONT, manejador)\n",
        "\n",
        "    for i in range(2):\n",
        "        process = os.fork()\n",
        "        if process < 0:\n",
        "            print(\"Error al crear el proceso \",i+1)\n",
        "            sys.exit(1)\n",
        "\n",
        "        if process == CHILD:\n",
        "           signal.raise_signal(signal.SIGSTOP)\n",
        "           os._exit(0)\n",
        "\n",
        "    time.sleep(2)\n",
        "    os.killpg(os.getpgrp(), signal.SIGCONT)\n",
        "\n",
        "    for i in range(2):\n",
        "        os.wait()\n",
        "\n",
        "if __name__ == '__main__':\n",
        "    main()"
      ],
      "metadata": {
        "colab": {
          "base_uri": "https://localhost:8080/"
        },
        "id": "B-ZydAoOK9GI",
        "outputId": "d64f46c1-8360-45e1-9c1c-84670d862758"
      },
      "execution_count": null,
      "outputs": [
        {
          "output_type": "stream",
          "name": "stdout",
          "text": [
            "Recibido SIGCONT\n",
            "Recibido SIGCONT\n",
            "<frame at 0x7c57ceb36c20, file '<ipython-input-32-54e67b152623>', line 23, code main><frame at 0x7c57ceaa9be0, file '<ipython-input-32-54e67b152623>', line 23, code main>\n",
            "\n",
            "Recibido SIGCONT\n",
            "<frame at 0x7c57ceb36c20, file '<ipython-input-32-54e67b152623>', line 27, code main>\n"
          ]
        }
      ]
    },
    {
      "cell_type": "code",
      "source": [
        "from multiprocessing import Pipe\n",
        "import os\n",
        "import sys\n",
        "\n",
        "CHILD = 0\n",
        "\n",
        "def main():\n",
        "    recepcion, envio = Pipe(False)\n",
        "\n",
        "    process = os.fork()\n",
        "    if process < 0:\n",
        "        sys.exit(\"Error al crear el nuevo proceso\")\n",
        "\n",
        "    if process == CHILD:\n",
        "        envio.close()\n",
        "        print(\"Recibido: \", recepcion.recv())\n",
        "        recepcion.close()\n",
        "        os._exit(0)\n",
        "    else:\n",
        "        recepcion.close()\n",
        "        envio.send((1, 'Yerba \"La Tranquera\"'))\n",
        "        envio.close()\n",
        "        os.wait()\n",
        "\n",
        "if __name__ == '__main__':\n",
        "    main()"
      ],
      "metadata": {
        "id": "7IJ2W2sBNVgl",
        "colab": {
          "base_uri": "https://localhost:8080/"
        },
        "outputId": "c2e4d7d7-7075-4440-a799-d4ee1bc54fbb"
      },
      "execution_count": null,
      "outputs": [
        {
          "output_type": "stream",
          "name": "stdout",
          "text": [
            "Recibido:  (1, 'Yerba \"La Tranquera\"')\n"
          ]
        }
      ]
    },
    {
      "cell_type": "code",
      "source": [
        "import pickle\n",
        "\n",
        "data = {\"nombre\": \"Juan\", \"edad\": 30}\n",
        "\n",
        "serialized_data = pickle.dumps(data)\n",
        "print(f\"Objeto serializado: {serialized_data}\")\n",
        "\n",
        "deserialized_data = pickle.loads(serialized_data)\n",
        "print(f\"Objeto deserializado: {deserialized_data}\")"
      ],
      "metadata": {
        "colab": {
          "base_uri": "https://localhost:8080/"
        },
        "id": "j2rnYVJLycgF",
        "outputId": "ce4f6683-afa4-4be3-dd00-856a3c2c0961"
      },
      "execution_count": null,
      "outputs": [
        {
          "output_type": "stream",
          "name": "stdout",
          "text": [
            "Objeto serializado: b'\\x80\\x04\\x95\\x1e\\x00\\x00\\x00\\x00\\x00\\x00\\x00}\\x94(\\x8c\\x06nombre\\x94\\x8c\\x04Juan\\x94\\x8c\\x04edad\\x94K\\x1eu.'\n",
            "Objeto deserializado: {'nombre': 'Juan', 'edad': 30}\n"
          ]
        }
      ]
    },
    {
      "cell_type": "code",
      "source": [
        "import pickle\n",
        "\n",
        "class Persona:\n",
        "    def __init__(self, nombre, edad):\n",
        "        self.nombre = nombre\n",
        "        self.edad = edad\n",
        "\n",
        "# Lista de objetos\n",
        "personas = [\n",
        "    Persona(\"Ana\", 30),\n",
        "    Persona(\"Luis\", 25),\n",
        "    Persona(\"Carla\", 40)\n",
        "]\n",
        "\n",
        "# Guardar la lista completa en un archivo\n",
        "with open(\"personas.pkl\", \"wb\") as f:\n",
        "    pickle.dump(personas, f)\n",
        "\n",
        "# Leer la lista completa\n",
        "with open(\"personas.pkl\", \"rb\") as f:\n",
        "    personas_recuperadas = pickle.load(f)\n",
        "\n",
        "for persona in personas_recuperadas:\n",
        "    print(persona.nombre, persona.edad)"
      ],
      "metadata": {
        "colab": {
          "base_uri": "https://localhost:8080/"
        },
        "id": "xffJwYH-94I1",
        "outputId": "66726dd3-a5f6-49bd-d44b-9c55cf5266f1"
      },
      "execution_count": null,
      "outputs": [
        {
          "output_type": "stream",
          "name": "stdout",
          "text": [
            "Ana 30\n",
            "Luis 25\n",
            "Carla 40\n"
          ]
        }
      ]
    },
    {
      "cell_type": "code",
      "source": [
        "%%writefile A.py\n",
        "import sys\n",
        "import os\n",
        "\n",
        "try:\n",
        "    os.mkfifo(\"./fifo\", 0o600)  # Crear el FIFO si no existe\n",
        "except OSError as err:\n",
        "    print(f\"Error al crear fifo: {err}\")\n",
        "    sys.exit(1)\n",
        "\n",
        "try:\n",
        "    fifo = os.open(\"./fifo\", os.O_WRONLY)  # Abrir el FIFO para escribir\n",
        "    os.write(fifo, \"Café La Morenita\".encode())  # Escribir en el FIFO\n",
        "    os.close(fifo)  # Cerrar el FIFO\n",
        "    os.unlink(\"./fifo\")  # Eliminar el FIFO\n",
        "except OSError as err:\n",
        "    print(f\"Error al trabajar con el FIFO: {err}\")\n",
        "    sys.exit(1)"
      ],
      "metadata": {
        "colab": {
          "base_uri": "https://localhost:8080/"
        },
        "id": "V4Y7SiU2Ae-Y",
        "outputId": "8a609d4c-aedf-430b-c795-f6d71bfa9c4e"
      },
      "execution_count": null,
      "outputs": [
        {
          "output_type": "stream",
          "name": "stdout",
          "text": [
            "Overwriting A.py\n"
          ]
        }
      ]
    },
    {
      "cell_type": "code",
      "source": [
        "%%writefile B.py\n",
        "import os\n",
        "\n",
        "BYTES = 1024\n",
        "\n",
        "# Intentar abrir el FIFO para lectura\n",
        "try:\n",
        "    fifo = os.open(\"./fifo\", os.O_RDONLY)\n",
        "\n",
        "    # Leer datos del FIFO (hasta BYTES bytes)\n",
        "    data = os.read(fifo, BYTES)\n",
        "\n",
        "    # Imprimir los datos leídos después de decodificar\n",
        "    print(data.decode())\n",
        "\n",
        "    # Cerrar el FIFO después de leer\n",
        "    os.close(fifo)\n",
        "\n",
        "except OSError as e:\n",
        "    print(f\"Error al abrir o leer el FIFO: {e}\")"
      ],
      "metadata": {
        "colab": {
          "base_uri": "https://localhost:8080/"
        },
        "id": "R_R3B4NQGVs-",
        "outputId": "e44f4617-9fc2-4c82-b49c-1824fa61461b"
      },
      "execution_count": null,
      "outputs": [
        {
          "output_type": "stream",
          "name": "stdout",
          "text": [
            "Overwriting B.py\n"
          ]
        }
      ]
    },
    {
      "cell_type": "code",
      "source": [
        "!nohup python A.py &"
      ],
      "metadata": {
        "colab": {
          "base_uri": "https://localhost:8080/"
        },
        "id": "FzC91jvqGfum",
        "outputId": "1729cb3c-8dde-411a-81f2-9342340439d3"
      },
      "execution_count": null,
      "outputs": [
        {
          "output_type": "stream",
          "name": "stdout",
          "text": [
            "nohup: appending output to 'nohup.out'\n"
          ]
        }
      ]
    },
    {
      "cell_type": "code",
      "source": [
        "!python B.py"
      ],
      "metadata": {
        "colab": {
          "base_uri": "https://localhost:8080/"
        },
        "id": "DwG-7W4LGmUp",
        "outputId": "f1ab0014-bb38-4be6-e6e8-6ad9621b4ebb"
      },
      "execution_count": null,
      "outputs": [
        {
          "output_type": "stream",
          "name": "stdout",
          "text": [
            "Café La Morenita\n"
          ]
        }
      ]
    },
    {
      "cell_type": "code",
      "source": [
        "%%writefile SHMA.py\n",
        "from multiprocessing import shared_memory\n",
        "import time\n",
        "import numpy\n",
        "\n",
        "ENTEROS = 5\n",
        "TAM_ENT = numpy.dtype(numpy.int32).itemsize  # Calcular bytes por entero\n",
        "\n",
        "try:\n",
        "    mc = shared_memory.SharedMemory(name=\"mi_mem\", create=True, size=TAM_ENT*ENTEROS)\n",
        "    print(f\"Memoria compartida creada con nombre: {mc.name}\")\n",
        "except FileExistsError:\n",
        "    print(\"La memoria compartida ya existe.\")\n",
        "\n",
        "for i in range(ENTEROS):\n",
        "    mc.buf[i] = i+1\n",
        "\n",
        "time.sleep(5)\n",
        "\n",
        "mc.close()\n",
        "mc.unlink()\n",
        "print(\"Finalizando SHMA.py\")"
      ],
      "metadata": {
        "id": "yIlEF8FVLH5-",
        "colab": {
          "base_uri": "https://localhost:8080/"
        },
        "outputId": "4912616b-b821-4e7f-9be8-9000b137822b"
      },
      "execution_count": null,
      "outputs": [
        {
          "output_type": "stream",
          "name": "stdout",
          "text": [
            "Overwriting SHMA.py\n"
          ]
        }
      ]
    },
    {
      "cell_type": "code",
      "source": [
        "%%writefile SHMB.py\n",
        "from multiprocessing import shared_memory\n",
        "from multiprocessing.resource_tracker import unregister\n",
        "\n",
        "ENTEROS = 5\n",
        "\n",
        "try:\n",
        "    mc = shared_memory.SharedMemory(name=\"mi_mem\")\n",
        "    print(f\"Memoria compartida accedida: {mc.name}\")\n",
        "except FileNotFoundError:\n",
        "    print(\"La memoria compartida no existe.\")\n",
        "    sys.exit(1)\n",
        "\n",
        "for i in range(ENTEROS):\n",
        "    print( mc.buf[i] )\n",
        "\n",
        "mc.close()\n",
        "#Para evitar el comportamiento reportado en:\n",
        "#https://bugs.python.org/issue39959#msg368770\n",
        "unregister(mc._name, \"shared_memory\")\n",
        "print(\"Finalizando SHMB.py\")"
      ],
      "metadata": {
        "id": "NNoT2tBUPucM",
        "colab": {
          "base_uri": "https://localhost:8080/"
        },
        "outputId": "a6a41bb1-671b-486d-dbe7-8ec8626a3a86"
      },
      "execution_count": null,
      "outputs": [
        {
          "output_type": "stream",
          "name": "stdout",
          "text": [
            "Overwriting SHMB.py\n"
          ]
        }
      ]
    },
    {
      "cell_type": "code",
      "source": [
        "!nohup python SHMA.py &"
      ],
      "metadata": {
        "colab": {
          "base_uri": "https://localhost:8080/"
        },
        "id": "UoJDoKfcYmZ7",
        "outputId": "98104ffd-ce77-4cd9-dac3-0bce52863a0a"
      },
      "execution_count": null,
      "outputs": [
        {
          "output_type": "stream",
          "name": "stdout",
          "text": [
            "nohup: appending output to 'nohup.out'\n"
          ]
        }
      ]
    },
    {
      "cell_type": "code",
      "source": [
        "!python SHMB.py"
      ],
      "metadata": {
        "colab": {
          "base_uri": "https://localhost:8080/"
        },
        "id": "GDuDYZQ5Yql_",
        "outputId": "91f90bef-8ad5-4fec-9bcb-8b1d556ca824"
      },
      "execution_count": null,
      "outputs": [
        {
          "output_type": "stream",
          "name": "stdout",
          "text": [
            "Memoria compartida accedida: mi_mem\n",
            "1\n",
            "2\n",
            "3\n",
            "4\n",
            "5\n",
            "Finalizando SHMB.py\n",
            "/usr/lib/python3.11/multiprocessing/resource_tracker.py:254: UserWarning: resource_tracker: There appear to be 1 leaked shared_memory objects to clean up at shutdown\n",
            "  warnings.warn('resource_tracker: There appear to be %d '\n"
          ]
        }
      ]
    },
    {
      "cell_type": "code",
      "source": [
        "%%writefile SERVER.py\n",
        "import socket\n",
        "\n",
        "MAX_PEND = 10\n",
        "PUERTO = 5000\n",
        "\n",
        "def servidor():\n",
        "    ss = socket.socket()\n",
        "\n",
        "    try:\n",
        "        ss.bind((\"127.0.0.1\", PUERTO))\n",
        "    except OSError as e:\n",
        "        print(f\"Error al enlazar el socket: {e}\")\n",
        "        return\n",
        "\n",
        "    ss.listen(MAX_PEND)\n",
        "    print(f\"Servidor escuchando en 127.0.0.1:{PUERTO}...\")\n",
        "\n",
        "    cs, dir = ss.accept()\n",
        "    print(f\"Conexión aceptada desde {dir}\")\n",
        "\n",
        "    try:\n",
        "        while True:\n",
        "            data = cs.recv(1024)\n",
        "            if not data:\n",
        "                break\n",
        "            recibi = data.decode(\"utf-8\")\n",
        "            if recibi.strip() == \"fin\":\n",
        "                break\n",
        "            print(\"Recibido:\", recibi)\n",
        "    except Exception as e:\n",
        "        print(f\"Error durante la comunicación: {e}\")\n",
        "    finally:\n",
        "        cs.close()\n",
        "        ss.close()\n",
        "        print(\"Conexión cerrada.\")\n",
        "\n",
        "if __name__ == '__main__':\n",
        "    servidor()"
      ],
      "metadata": {
        "id": "rdaLO1pIYvIL",
        "colab": {
          "base_uri": "https://localhost:8080/"
        },
        "outputId": "5e7e2b9c-6b85-496a-bc06-d2882e51a79c"
      },
      "execution_count": null,
      "outputs": [
        {
          "output_type": "stream",
          "name": "stdout",
          "text": [
            "Overwriting SERVER.py\n"
          ]
        }
      ]
    },
    {
      "cell_type": "code",
      "source": [
        "%%writefile CLIENT.py\n",
        "import socket\n",
        "\n",
        "PUERTO = 5000\n",
        "\n",
        "def cliente():\n",
        "    cs = socket.socket()\n",
        "\n",
        "    try:\n",
        "        cs.connect((\"127.0.0.1\", PUERTO))\n",
        "    except ConnectionRefusedError:\n",
        "        print(\"Error: no se pudo conectar al servidor.\")\n",
        "        return\n",
        "\n",
        "    print(\"Conectado al servidor. Escribe 'fin' para salir.\")\n",
        "    while True:\n",
        "        envie = input(\"> \").strip()\n",
        "        cs.send(envie.encode(\"utf-8\"))\n",
        "        if envie == \"fin\":\n",
        "            break\n",
        "\n",
        "    print(\"Conexión cerrada.\")\n",
        "    cs.close()\n",
        "\n",
        "if __name__ == '__main__':\n",
        "    cliente()"
      ],
      "metadata": {
        "colab": {
          "base_uri": "https://localhost:8080/"
        },
        "id": "8ODQVyDbjukc",
        "outputId": "fcf398d0-cbcf-4e32-b37e-1b1a112b8f1a"
      },
      "execution_count": null,
      "outputs": [
        {
          "output_type": "stream",
          "name": "stdout",
          "text": [
            "Overwriting CLIENT.py\n"
          ]
        }
      ]
    },
    {
      "cell_type": "code",
      "source": [
        "!nohup python SERVER.py &"
      ],
      "metadata": {
        "colab": {
          "base_uri": "https://localhost:8080/"
        },
        "id": "oZMG4g2_kHH6",
        "outputId": "10a2e662-a264-4ef3-a394-3a9ff81c9f65"
      },
      "execution_count": null,
      "outputs": [
        {
          "output_type": "stream",
          "name": "stdout",
          "text": [
            "nohup: appending output to 'nohup.out'\n"
          ]
        }
      ]
    },
    {
      "cell_type": "code",
      "source": [
        "!python CLIENT.py"
      ],
      "metadata": {
        "colab": {
          "base_uri": "https://localhost:8080/"
        },
        "id": "3fpgXgfDkPoq",
        "outputId": "639326b5-c29e-48c8-ff0d-00b21d0440c2"
      },
      "execution_count": null,
      "outputs": [
        {
          "output_type": "stream",
          "name": "stdout",
          "text": [
            "Conectado al servidor. Escribe 'fin' para salir.\n",
            "> pepe\n",
            "> pipi\n",
            "> popo\n",
            "> fin\n",
            "Conexión cerrada.\n"
          ]
        }
      ]
    },
    {
      "cell_type": "code",
      "source": [
        "%%writefile SERVER_IMG.py\n",
        "import socket\n",
        "\n",
        "PUERTO = 4000\n",
        "IMAGEN_RECV_PATH = \"chaos_world_copia.png\"  # Ruta donde se guardará la imagen recibida\n",
        "\n",
        "def servidor():\n",
        "    ss = socket.socket()\n",
        "    ss.bind((\"127.0.0.1\", PUERTO))\n",
        "    ss.listen(1)\n",
        "\n",
        "    print(\"Esperando conexión...\")\n",
        "    cs, dir = ss.accept()\n",
        "    print(f\"Conexión aceptada desde {dir}\")\n",
        "\n",
        "    with open(IMAGEN_RECV_PATH, \"wb\") as file:\n",
        "        while True:\n",
        "            # Recibir los fragmentos de 1024 bytes\n",
        "            print(\"recibido\")\n",
        "            fragmento = cs.recv(1024)\n",
        "            if not fragmento:\n",
        "                break  # Si no hay más datos, terminamos\n",
        "            file.write(fragmento)  # Escribir el fragmento en el archivo\n",
        "\n",
        "    print(\"Imagen recibida y guardada.\")\n",
        "    cs.close()\n",
        "    ss.close()\n",
        "\n",
        "if __name__ == '__main__':\n",
        "    servidor()"
      ],
      "metadata": {
        "colab": {
          "base_uri": "https://localhost:8080/"
        },
        "id": "qv1cGZ87n7VF",
        "outputId": "fb811020-f3ee-4505-e540-930ad60306d5"
      },
      "execution_count": null,
      "outputs": [
        {
          "output_type": "stream",
          "name": "stdout",
          "text": [
            "Overwriting SERVER_IMG.py\n"
          ]
        }
      ]
    },
    {
      "cell_type": "code",
      "source": [
        "%%writefile CLIENT_IMG.py\n",
        "import socket\n",
        "\n",
        "PUERTO = 4000\n",
        "IMAGEN_PATH = \"chaos_world.png\"  # Ruta de la imagen que quieres enviar\n",
        "\n",
        "def cliente():\n",
        "    cs = socket.socket()\n",
        "    cs.connect((\"127.0.0.1\", PUERTO))\n",
        "\n",
        "    # Abrir el archivo de la imagen en modo binario\n",
        "    with open(IMAGEN_PATH, \"rb\") as file:\n",
        "        while True:\n",
        "            # Leer un fragmento de 1024 bytes\n",
        "            fragmento = file.read(1024)\n",
        "            if not fragmento:\n",
        "                break  # Si ya no hay más datos, terminamos\n",
        "            cs.send(fragmento)  # Enviar el fragmento\n",
        "\n",
        "    print(\"Imagen enviada.\")\n",
        "    cs.close()\n",
        "\n",
        "if __name__ == '__main__':\n",
        "    cliente()"
      ],
      "metadata": {
        "colab": {
          "base_uri": "https://localhost:8080/"
        },
        "id": "pe-q4J30oGXU",
        "outputId": "544a71c4-5f62-4be7-f8c1-11bfd1f93eca"
      },
      "execution_count": null,
      "outputs": [
        {
          "output_type": "stream",
          "name": "stdout",
          "text": [
            "Overwriting CLIENT_IMG.py\n"
          ]
        }
      ]
    },
    {
      "cell_type": "code",
      "source": [
        "!nohup python SERVER_IMG.py &"
      ],
      "metadata": {
        "colab": {
          "base_uri": "https://localhost:8080/"
        },
        "id": "xpXIpLu_oSHL",
        "outputId": "51f760ad-2788-405d-f90b-874bf45b36de"
      },
      "execution_count": null,
      "outputs": [
        {
          "output_type": "stream",
          "name": "stdout",
          "text": [
            "nohup: appending output to 'nohup.out'\n"
          ]
        }
      ]
    },
    {
      "cell_type": "code",
      "source": [
        "!python CLIENT_IMG.py"
      ],
      "metadata": {
        "colab": {
          "base_uri": "https://localhost:8080/"
        },
        "id": "vg5ZIbUHoRzT",
        "outputId": "9925e9fa-af7e-46e1-dda9-e0fa5d8b1339"
      },
      "execution_count": null,
      "outputs": [
        {
          "output_type": "stream",
          "name": "stdout",
          "text": [
            "Imagen enviada.\n"
          ]
        }
      ]
    },
    {
      "cell_type": "code",
      "source": [],
      "metadata": {
        "id": "R56oRWu5p188"
      },
      "execution_count": null,
      "outputs": []
    }
  ]
}