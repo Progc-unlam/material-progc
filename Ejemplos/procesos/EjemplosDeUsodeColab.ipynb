{
  "nbformat": 4,
  "nbformat_minor": 0,
  "metadata": {
    "colab": {
      "provenance": [],
      "collapsed_sections": [
        "O-jNV8PNf0XK"
      ],
      "include_colab_link": true
    },
    "kernelspec": {
      "name": "python3",
      "display_name": "Python 3"
    },
    "language_info": {
      "name": "python"
    }
  },
  "cells": [
    {
      "cell_type": "markdown",
      "metadata": {
        "id": "view-in-github",
        "colab_type": "text"
      },
      "source": [
        "<a href=\"https://colab.research.google.com/github/Progc-unlam/material-progc/blob/main/Ejemplos/procesos/EjemplosDeUsodeColab.ipynb\" target=\"_parent\"><img src=\"https://colab.research.google.com/assets/colab-badge.svg\" alt=\"Open In Colab\"/></a>"
      ]
    },
    {
      "cell_type": "markdown",
      "source": [
        "# Práctica de procesos "
      ],
      "metadata": {
        "id": "O-jNV8PNf0XK"
      }
    },
    {
      "cell_type": "markdown",
      "source": [
        "# Ejemplo en **Python**\n",
        "\n",
        "Este programa muestra cuales son los pasos para ejecutar un programa en Python en Google Colab."
      ],
      "metadata": {
        "id": "L49n8MeYF7yU"
      }
    },
    {
      "cell_type": "markdown",
      "source": [
        "---\n",
        "1°) Genero el archivo fork.py\n",
        "\n",
        "\n",
        "\n",
        "\n",
        "\n"
      ],
      "metadata": {
        "id": "gxop8Y9lOV1Q"
      }
    },
    {
      "cell_type": "code",
      "execution_count": null,
      "metadata": {
        "colab": {
          "base_uri": "https://localhost:8080/"
        },
        "id": "77B0w4e3e2Nz",
        "outputId": "b2d0c5ba-db6a-4544-9de7-c490a56e7d9e"
      },
      "outputs": [
        {
          "output_type": "stream",
          "name": "stdout",
          "text": [
            "Overwriting fork.py\n"
          ]
        }
      ],
      "source": [
        "%%writefile fork.py\n",
        "import sys\n",
        "import os\n",
        "import time\n",
        "\n",
        "def parent():\n",
        "    print(\"Hola que tal soy un Ejemplo en Python\")\n",
        "    #Aplico espera activa por 100 segundos\n",
        "    time.sleep(1)\n",
        "    #termino el programa\n",
        "    exit(0)\n",
        "\n",
        "parent()\n"
      ]
    },
    {
      "cell_type": "code",
      "source": [
        "!chmod 700 ./fork.py"
      ],
      "metadata": {
        "id": "8C6mJxPd3GvF"
      },
      "execution_count": null,
      "outputs": []
    },
    {
      "cell_type": "markdown",
      "source": [
        "2°) Ejecuto en segundo plano el script de Python, para que mientras se este  ejecutando este script se pueda usar el comando ps y pstree"
      ],
      "metadata": {
        "id": "M1YC-lzjKEhx"
      }
    },
    {
      "cell_type": "code",
      "source": [
        "!nohup python fork.py 1>salidaPython 2>/dev/null &"
      ],
      "metadata": {
        "id": "TDs2yk5H31wL"
      },
      "execution_count": null,
      "outputs": []
    },
    {
      "cell_type": "markdown",
      "source": [
        "3°) Compruebo su ejecución su ejecución y árbol de procesos con pstree"
      ],
      "metadata": {
        "id": "ej4S8g2XYcWF"
      }
    },
    {
      "cell_type": "code",
      "source": [
        "!ps -ef | grep fork.py\n"
      ],
      "metadata": {
        "colab": {
          "base_uri": "https://localhost:8080/"
        },
        "id": "o-AH6WJGeo94",
        "outputId": "f0852f7c-84aa-4494-f915-9685aba3fffb"
      },
      "execution_count": null,
      "outputs": [
        {
          "output_type": "stream",
          "name": "stdout",
          "text": [
            "root       22097   20444  0 16:06 ?        00:00:00 /bin/bash -c ps -ef | grep fork.py\n",
            "root       22099   22097  0 16:06 ?        00:00:00 grep fork.py\n"
          ]
        }
      ]
    },
    {
      "cell_type": "code",
      "source": [
        "!pstree -pc 14758              "
      ],
      "metadata": {
        "colab": {
          "base_uri": "https://localhost:8080/"
        },
        "id": "Uv_ReTVE38Kh",
        "outputId": "b107598f-7860-42c9-9939-60255e0fa50a"
      },
      "execution_count": null,
      "outputs": [
        {
          "output_type": "stream",
          "name": "stdout",
          "text": [
            "python3(14758)\n"
          ]
        }
      ]
    },
    {
      "cell_type": "markdown",
      "source": [
        "# Ejemplo en **C**\n",
        "Este programa muestra cuales son los pasos para ejecutar un programa en C en Google Colab."
      ],
      "metadata": {
        "id": "R2Pnn_u1Zcu7"
      }
    },
    {
      "cell_type": "code",
      "source": [
        "%%writefile fork.c\n",
        "#include <stdlib.h>\n",
        "#include <stdio.h>\n",
        "#include <unistd.h>\n",
        "#include <sys/wait.h>\n",
        "\n",
        "int main(int argc, char *argv[])\n",
        "{\n",
        "    \n",
        "    printf(\"Hola que tal soy un Ejemplo C\");\n",
        "    //Aplico espera activa por 100 segundos\n",
        "    sleep(1);\n",
        "    //termino el programa\n",
        "    return EXIT_SUCCESS;\n",
        "}"
      ],
      "metadata": {
        "colab": {
          "base_uri": "https://localhost:8080/"
        },
        "id": "Hr0IFTA_AFHU",
        "outputId": "57a7ecee-7b28-475a-8a6c-fe956882b4df"
      },
      "execution_count": null,
      "outputs": [
        {
          "output_type": "stream",
          "name": "stdout",
          "text": [
            "Overwriting fork.c\n"
          ]
        }
      ]
    },
    {
      "cell_type": "code",
      "source": [
        "!ls -la"
      ],
      "metadata": {
        "colab": {
          "base_uri": "https://localhost:8080/"
        },
        "id": "yEjTraOG_fVN",
        "outputId": "841e6258-28ef-48ef-b008-2e93d80cf7d3"
      },
      "execution_count": null,
      "outputs": [
        {
          "output_type": "stream",
          "name": "stdout",
          "text": [
            "total 56\n",
            "drwxr-xr-x 1 root root  4096 Apr  6 15:59 .\n",
            "drwxr-xr-x 1 root root  4096 Apr  6 14:40 ..\n",
            "drwxr-xr-x 4 root root  4096 Apr  4 13:34 .config\n",
            "-rw-r--r-- 1 root root   493 Apr  6 15:03 crear_proceso.java\n",
            "-rwxr-xr-x 1 root root 16744 Apr  6 15:47 fork.bin\n",
            "-rw-r--r-- 1 root root   275 Apr  6 15:59 fork.c\n",
            "-rwx------ 1 root root   205 Apr  6 15:37 fork.py\n",
            "-rw-r--r-- 1 root root   338 Apr  6 15:03 Hijo.java\n",
            "drwxr-xr-x 2 root root  4096 Apr  6 14:54 .ipynb_checkpoints\n",
            "drwxr-xr-x 1 root root  4096 Apr  4 13:35 sample_data\n"
          ]
        }
      ]
    },
    {
      "cell_type": "code",
      "source": [
        "!gcc -o fork.bin fork.c "
      ],
      "metadata": {
        "id": "GPj6LeaQ7pYT"
      },
      "execution_count": null,
      "outputs": []
    },
    {
      "cell_type": "code",
      "source": [
        "!ls -la\n"
      ],
      "metadata": {
        "colab": {
          "base_uri": "https://localhost:8080/"
        },
        "id": "YHREo91G_xe3",
        "outputId": "8706c469-26fd-4b4e-86b3-a9dbde69105a"
      },
      "execution_count": null,
      "outputs": [
        {
          "output_type": "stream",
          "name": "stdout",
          "text": [
            "total 48\n",
            "drwxr-xr-x 1 root root  4096 Apr  6 00:47 .\n",
            "drwxr-xr-x 1 root root  4096 Apr  5 22:12 ..\n",
            "drwxr-xr-x 4 root root  4096 Apr  4 13:34 .config\n",
            "-rwxr-xr-x 1 root root 16952 Apr  6 00:47 fork.bin\n",
            "-rw-r--r-- 1 root root   607 Apr  6 00:36 fork.c\n",
            "-rwx------ 1 root root   565 Apr  6 00:02 fork.py\n",
            "-rw-r--r-- 1 root root   118 Apr  6 00:04 salida\n",
            "drwxr-xr-x 1 root root  4096 Apr  4 13:35 sample_data\n"
          ]
        }
      ]
    },
    {
      "cell_type": "code",
      "source": [
        "!nohup ./fork.bin 1>salidaC 2>/dev/null & "
      ],
      "metadata": {
        "id": "bcCqDZ0pBNmB"
      },
      "execution_count": null,
      "outputs": []
    },
    {
      "cell_type": "code",
      "source": [
        "!ps -ef | grep fork.bin"
      ],
      "metadata": {
        "id": "j-wmjxq_fTIl",
        "colab": {
          "base_uri": "https://localhost:8080/"
        },
        "outputId": "920f1d37-715a-4e85-d825-a1a85d6dd368"
      },
      "execution_count": null,
      "outputs": [
        {
          "output_type": "stream",
          "name": "stdout",
          "text": [
            "root       20531       1  0 16:00 ?        00:00:00 ./fork.bin\n",
            "root       20808       1  0 16:01 ?        00:00:00 ./fork.bin\n",
            "root       20809   20808  0 16:01 ?        00:00:00 ./fork.bin\n",
            "root       20842   20444  0 16:01 ?        00:00:00 /bin/bash -c ps -ef | grep fork.bin\n",
            "root       20844   20842  0 16:01 ?        00:00:00 grep fork.bin\n"
          ]
        }
      ]
    },
    {
      "cell_type": "code",
      "source": [
        "!pstree 20808       "
      ],
      "metadata": {
        "colab": {
          "base_uri": "https://localhost:8080/"
        },
        "id": "_0LhAVhcBdpa",
        "outputId": "7e9d06d2-0a74-489f-ee70-4e3974e10694"
      },
      "execution_count": null,
      "outputs": [
        {
          "output_type": "stream",
          "name": "stdout",
          "text": [
            "fork.bin───fork.bin\n"
          ]
        }
      ]
    },
    {
      "cell_type": "markdown",
      "source": [
        "# Ejemplo en **Java**\n",
        "Este programa muestra cuales son los pasos para ejecutar un programa en Java en Google Colab."
      ],
      "metadata": {
        "id": "iBi2IVjAbsu7"
      }
    },
    {
      "cell_type": "code",
      "source": [
        "%%writefile crear_proceso.java\n",
        "import java.io.IOException;\n",
        "\n",
        "public class Main\n",
        "{\n",
        "    public static void main(String[] args) throws IOException,  InterruptedException\n",
        "    {\n",
        "         System.out.println(\"Hola que tal soy un Ejemplo en Java\" );\n",
        "         Thread.sleep(1);\n",
        "    }\n",
        "}"
      ],
      "metadata": {
        "id": "AAmu_hh_BkrC",
        "colab": {
          "base_uri": "https://localhost:8080/"
        },
        "outputId": "9540b195-73d0-4fce-85c6-7d06f1d66e7c"
      },
      "execution_count": null,
      "outputs": [
        {
          "output_type": "stream",
          "name": "stdout",
          "text": [
            "Overwriting crear_proceso.java\n"
          ]
        }
      ]
    },
    {
      "cell_type": "code",
      "source": [
        "!nohup java crear_proceso.java 1>salidaJava 2>/dev/null &  "
      ],
      "metadata": {
        "id": "_iGE3rCQeSQK"
      },
      "execution_count": null,
      "outputs": []
    },
    {
      "cell_type": "code",
      "source": [
        "!ps -ef "
      ],
      "metadata": {
        "colab": {
          "base_uri": "https://localhost:8080/"
        },
        "id": "JotjIEEUFRfI",
        "outputId": "6aa2a112-1e74-462c-a535-488d5dd561b0"
      },
      "execution_count": null,
      "outputs": [
        {
          "output_type": "stream",
          "name": "stdout",
          "text": [
            "UID          PID    PPID  C STIME TTY          TIME CMD\n",
            "root           1       0  0 14:40 ?        00:00:00 /sbin/docker-init -- /datala\n",
            "root           7       1  0 14:40 ?        00:00:03 /tools/node/bin/node /datala\n",
            "root          19       0  0 14:40 ?        00:00:00 tail -n +0 -F /root/.config/\n",
            "root          30       7  0 14:40 ?        00:00:00 /bin/bash -e /usr/local/cola\n",
            "root          32       1  0 14:40 ?        00:00:00 /bin/bash -e /datalab/run.sh\n",
            "root          33      32  0 14:40 ?        00:00:00 /usr/colab/bin/kernel_manage\n",
            "root          60       7  0 14:40 ?        00:00:07 [python3] <defunct>\n",
            "root          61       7  0 14:40 ?        00:00:00 python3 /usr/local/bin/colab\n",
            "root          82       7  0 14:40 ?        00:00:06 /usr/bin/python3 /usr/local/\n",
            "root          83       7  0 14:40 ?        00:00:00 /usr/local/bin/dap_multiplex\n",
            "root         146      82  0 14:41 ?        00:00:07 /usr/bin/python3 -m ipykerne\n",
            "root         190       1  0 14:41 ?        00:00:00 /usr/bin/python3 /usr/local/\n",
            "root         225       7  0 14:41 ?        00:00:10 node /datalab/web/pyright/py\n",
            "root        6006       1 52 15:03 ?        00:00:01 java crear_proceso.java\n",
            "root        6028    6006 80 15:03 ?        00:00:01 java Hijo.java\n",
            "root        6054      30  0 15:03 ?        00:00:00 sleep 1\n",
            "root        6055     146  0 15:03 ?        00:00:00 ps -ef\n"
          ]
        }
      ]
    },
    {
      "cell_type": "code",
      "source": [
        "!pstree -pT"
      ],
      "metadata": {
        "colab": {
          "base_uri": "https://localhost:8080/"
        },
        "id": "VHh3qxEQehA7",
        "outputId": "c2b8183e-e1aa-41da-cf65-38eaeab87575"
      },
      "execution_count": null,
      "outputs": [
        {
          "output_type": "stream",
          "name": "stdout",
          "text": [
            "docker-init(1)─┬─node(7)─┬─colab-fileshim.(61)\n",
            "               │         ├─dap_multiplexer(83)\n",
            "               │         ├─jupyter-noteboo(82)───python3(20444)───pstree(25444)\n",
            "               │         ├─node(20504)\n",
            "               │         ├─oom_monitor.sh(30)───sleep(25441)\n",
            "               │         └─python3(60)\n",
            "               ├─python3(20471)\n",
            "               └─run.sh(32)───kernel_manager_(33)\n"
          ]
        }
      ]
    }
  ]
}