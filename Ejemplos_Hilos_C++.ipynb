{
  "nbformat": 4,
  "nbformat_minor": 0,
  "metadata": {
    "colab": {
      "provenance": [],
      "authorship_tag": "ABX9TyN0IABbxUjOBdxoYyI/bOBk",
      "include_colab_link": true
    },
    "kernelspec": {
      "name": "python3",
      "display_name": "Python 3"
    },
    "language_info": {
      "name": "python"
    }
  },
  "cells": [
    {
      "cell_type": "markdown",
      "metadata": {
        "id": "view-in-github",
        "colab_type": "text"
      },
      "source": [
        "<a href=\"https://colab.research.google.com/github/Progc-unlam/material-progc/blob/main/Ejemplos_Hilos_C%2B%2B.ipynb\" target=\"_parent\"><img src=\"https://colab.research.google.com/assets/colab-badge.svg\" alt=\"Open In Colab\"/></a>"
      ]
    },
    {
      "cell_type": "markdown",
      "source": [
        "# Ejemplos en C++"
      ],
      "metadata": {
        "id": "YAH4fOr5l_t5"
      }
    },
    {
      "cell_type": "markdown",
      "source": [
        "El hilo principal (el main) crea un hilo y luego espera su finalización a traves de join. <br> Por defecto los hilos son joinables, esto quiere decir que en algún momento se tendrá que joinear.\n",
        "\n",
        "En este ejemplo el main comparte la variable value con el hilo, pasando dicha variable por referencia."
      ],
      "metadata": {
        "id": "dgwZGJF7mK5f"
      }
    },
    {
      "cell_type": "code",
      "execution_count": 26,
      "metadata": {
        "colab": {
          "base_uri": "https://localhost:8080/"
        },
        "id": "dxgwNkIiiW1E",
        "outputId": "b35b4432-87a4-4bb3-c43c-d9899a25044d"
      },
      "outputs": [
        {
          "output_type": "stream",
          "name": "stdout",
          "text": [
            "Overwriting ejemplo_hilos.cpp\n"
          ]
        }
      ],
      "source": [
        "%%writefile ejemplo_hilos.cpp\n",
        "#include <thread>\n",
        "#include <iostream>\n",
        "\n",
        "void IncreaseValue(int &value)\n",
        "{\n",
        "    value++;\n",
        "};\n",
        "\n",
        "int main( int argc, char *argv[] )\n",
        "{\n",
        "    int value = 0;\n",
        "\n",
        "    std::thread hilo_a(IncreaseValue, std::ref(value));\n",
        "\n",
        "    hilo_a.join();\n",
        "\n",
        "    std::cout<<\"Valor final: \"<<value<<std::endl;\n",
        "\n",
        "    return EXIT_SUCCESS;\n",
        "}"
      ]
    },
    {
      "cell_type": "code",
      "source": [
        "!g++ -o ejemplo_hilos.bin ejemplo_hilos.cpp"
      ],
      "metadata": {
        "id": "eMHjGc5IkFs7"
      },
      "execution_count": 37,
      "outputs": []
    },
    {
      "cell_type": "code",
      "source": [
        "!./ejemplo_hilos.bin"
      ],
      "metadata": {
        "colab": {
          "base_uri": "https://localhost:8080/"
        },
        "id": "bV1HPVACknB_",
        "outputId": "6d4d046e-f041-43e1-ed95-1df7509c3510"
      },
      "execution_count": 34,
      "outputs": [
        {
          "output_type": "stream",
          "name": "stdout",
          "text": [
            "Valor final: 1\n"
          ]
        }
      ]
    },
    {
      "cell_type": "markdown",
      "source": [
        "Si no hacemos el join, al finalizar el hilo finalizará el programa arrojando un error."
      ],
      "metadata": {
        "id": "vzTvkx5ZnbcQ"
      }
    },
    {
      "cell_type": "code",
      "source": [
        "%%writefile ejemplo_hilos.cpp\n",
        "#include <thread>\n",
        "#include <iostream>\n",
        "#include <unistd.h>\n",
        "\n",
        "void IncreaseValue(int &value)\n",
        "{\n",
        "    value++;\n",
        "};\n",
        "\n",
        "int main( int argc, char *argv[] )\n",
        "{\n",
        "    int value = 0;\n",
        "\n",
        "    std::thread hilo_a(IncreaseValue, std::ref(value));\n",
        "\n",
        "    //hilo_a.join();\n",
        "    sleep(2);\n",
        "    std::cout<<\"Valor final: \"<<value<<std::endl;\n",
        "\n",
        "    return EXIT_SUCCESS;\n",
        "}"
      ],
      "metadata": {
        "colab": {
          "base_uri": "https://localhost:8080/"
        },
        "id": "tAr9a4mUl-lD",
        "outputId": "137088b4-88ba-418c-fc83-56d282c76688"
      },
      "execution_count": 35,
      "outputs": [
        {
          "output_type": "stream",
          "name": "stdout",
          "text": [
            "Overwriting ejemplo_hilos.cpp\n"
          ]
        }
      ]
    },
    {
      "cell_type": "code",
      "source": [
        "!g++ -o ejemplo_hilos.bin ejemplo_hilos.cpp"
      ],
      "metadata": {
        "id": "jU31r8b1zdW6"
      },
      "execution_count": null,
      "outputs": []
    },
    {
      "cell_type": "code",
      "source": [
        "!./ejemplo_hilos.bin"
      ],
      "metadata": {
        "colab": {
          "base_uri": "https://localhost:8080/"
        },
        "id": "cdOYGQIwp48S",
        "outputId": "02365776-83c6-412f-bc16-dab95737e5ed"
      },
      "execution_count": 38,
      "outputs": [
        {
          "output_type": "stream",
          "name": "stdout",
          "text": [
            "Valor final: 1\n",
            "terminate called without an active exception\n"
          ]
        }
      ]
    },
    {
      "cell_type": "markdown",
      "source": [
        "Para evitar dicha situación, en caso de no necesitar de esperar la finalización del hilo, <br> declaramos al mismo como independiente (detached)"
      ],
      "metadata": {
        "id": "xbe7G73YzmEJ"
      }
    },
    {
      "cell_type": "code",
      "source": [
        "%%writefile ejemplo_hilos.cpp\n",
        "#include <thread>\n",
        "#include <iostream>\n",
        "\n",
        "void IncreaseValue(int &value)\n",
        "{\n",
        "    value++;\n",
        "};\n",
        "\n",
        "int main( int argc, char *argv[] )\n",
        "{\n",
        "    int value = 0;\n",
        "\n",
        "    std::thread hilo_a(IncreaseValue, std::ref(value));\n",
        "\n",
        "    hilo_a.detach();\n",
        "\n",
        "    return EXIT_SUCCESS;\n",
        "}"
      ],
      "metadata": {
        "colab": {
          "base_uri": "https://localhost:8080/"
        },
        "id": "r_WJk92OvtgL",
        "outputId": "b56fc163-95c4-45cc-ba52-dd01b7400244"
      },
      "execution_count": 47,
      "outputs": [
        {
          "output_type": "stream",
          "name": "stdout",
          "text": [
            "Overwriting ejemplo_hilos.cpp\n"
          ]
        }
      ]
    },
    {
      "cell_type": "code",
      "source": [
        "!g++ -o ejemplo_hilos.bin ejemplo_hilos.cpp"
      ],
      "metadata": {
        "id": "KuXZdGXdzghM"
      },
      "execution_count": 50,
      "outputs": []
    },
    {
      "cell_type": "code",
      "source": [
        "!./ejemplo_hilos.bin"
      ],
      "metadata": {
        "colab": {
          "base_uri": "https://localhost:8080/"
        },
        "id": "OJtUmK_Bzg25",
        "outputId": "a0be8704-4379-4ccb-e209-92c4692fa8bd"
      },
      "execution_count": 51,
      "outputs": [
        {
          "output_type": "stream",
          "name": "stdout",
          "text": [
            "Valor final: 0\n"
          ]
        }
      ]
    },
    {
      "cell_type": "markdown",
      "source": [
        "Otra alternativa es utilizar jthread (C++ 20) en lugar de thread, jthread mantiene la misma funcionalidad de thread y además realiza el joineo de los hilos automáticamente sin tener que especificar join()."
      ],
      "metadata": {
        "id": "Sk8tIWuU1cGV"
      }
    },
    {
      "cell_type": "code",
      "source": [
        "%%writefile ejemplo_hilos.cpp\n",
        "#include <thread>\n",
        "#include <iostream>\n",
        "\n",
        "void IncreaseValue(int &value)\n",
        "{\n",
        "    value++;\n",
        "    std::cout<<\"Valor final: \"<<value<<std::endl;\n",
        "};\n",
        "\n",
        "int main( int argc, char *argv[] )\n",
        "{\n",
        "    int value = 0;\n",
        "\n",
        "    std::jthread hilo_a(IncreaseValue, std::ref(value));\n",
        "\n",
        "    return EXIT_SUCCESS;\n",
        "}"
      ],
      "metadata": {
        "colab": {
          "base_uri": "https://localhost:8080/"
        },
        "id": "s2sBCc9Z2Xbb",
        "outputId": "c088bace-f5f3-4fe9-e095-03528db44315"
      },
      "execution_count": 63,
      "outputs": [
        {
          "output_type": "stream",
          "name": "stdout",
          "text": [
            "Overwriting ejemplo_hilos.cpp\n"
          ]
        }
      ]
    },
    {
      "cell_type": "code",
      "source": [
        "!g++ -o ejemplo_hilos.bin ejemplo_hilos.cpp -std=c++20"
      ],
      "metadata": {
        "id": "r0t38byY2hbJ"
      },
      "execution_count": 64,
      "outputs": []
    },
    {
      "cell_type": "code",
      "source": [
        "!./ejemplo_hilos.bin"
      ],
      "metadata": {
        "colab": {
          "base_uri": "https://localhost:8080/"
        },
        "id": "-5uUjZ5w2uhU",
        "outputId": "5cda96cf-43ce-4496-b3ad-cb7e9df182b4"
      },
      "execution_count": 65,
      "outputs": [
        {
          "output_type": "stream",
          "name": "stdout",
          "text": [
            "Valor final: 1\n",
            "Valor final: 1\n"
          ]
        }
      ]
    }
  ]
}