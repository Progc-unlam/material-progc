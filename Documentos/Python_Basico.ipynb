{
  "nbformat": 4,
  "nbformat_minor": 0,
  "metadata": {
    "colab": {
      "provenance": [],
      "toc_visible": true
    },
    "kernelspec": {
      "display_name": "Python 3",
      "language": "python",
      "name": "python3"
    },
    "language_info": {
      "codemirror_mode": {
        "name": "ipython",
        "version": 3
      },
      "file_extension": ".py",
      "mimetype": "text/x-python",
      "name": "python",
      "nbconvert_exporter": "python",
      "pygments_lexer": "ipython3",
      "version": "3.8.6"
    }
  },
  "cells": [
    {
      "cell_type": "markdown",
      "metadata": {
        "id": "FIdhL0OfwXN5"
      },
      "source": [
        "# Python Básico - Programación Concurrente\n",
        "La siguiente guía tiene como objetivo introducir los comandos básicos del lenguaje Python, para que el alumno pueda confeccionar la guía de ejercicios. "
      ]
    },
    {
      "cell_type": "markdown",
      "metadata": {
        "id": "4Q0sQQAPwiHn"
      },
      "source": [
        "# 1 Sintaxis\n",
        "La sintaxis de Python no requiere de caracteres especiales que indiquen la terminación de declaración. Los bloques de código se especifican mediante sangría. Sangría para comenzar un bloque, sangría para terminar uno. Las declaraciones que esperan un nivel de sangría terminan en dos puntos (:). Los comentarios comienzan con el signo de almohadilla (#) y son de una sola línea. No es muy utilizado los comentarios multilíneas. Pero las cadenas de varias líneas se utilizan para comentarios de varias líneas."
      ]
    },
    {
      "cell_type": "code",
      "metadata": {
        "scrolled": true,
        "id": "x3ulzuX0XgA_",
        "outputId": "46a6503f-6194-4558-89fa-8f1b1e0ec982"
      },
      "source": [
        "# Esto es un comentario de una línea en Python.\n",
        "\n",
        "# Esto es un... \n",
        "# Comentario multilínea\n",
        "\n",
        "\"\"\"\n",
        "Esto NO es un... \n",
        "Comentario multilínea...\n",
        "Pero funciona como uno.\n",
        "\"\"\"\n"
      ],
      "execution_count": null,
      "outputs": [
        {
          "output_type": "execute_result",
          "data": {
            "text/plain": [
              "'\\nEsto NO es un... \\nComentario multilínea...\\nPero funciona como uno.\\n'"
            ]
          },
          "metadata": {
            "tags": []
          },
          "execution_count": 51
        }
      ]
    },
    {
      "cell_type": "markdown",
      "metadata": {
        "id": "AF12pOSRXgBK"
      },
      "source": [
        "# 2 Tipos de Datos\n",
        "Python al ser un lenguaje interpretado, las variables y sus tipos de datos no necesitan ser declaradas, simplemente se definen al ser utilizadas por primera vez."
      ]
    },
    {
      "cell_type": "code",
      "metadata": {
        "id": "gVqeKBYUXgBM",
        "outputId": "66f5f937-5438-4826-cbd2-1bd0caa426fd"
      },
      "source": [
        "# Variables numéricas.\n",
        "var = 4\n",
        "var += 3\n",
        "print( var, type(var) )"
      ],
      "execution_count": null,
      "outputs": [
        {
          "output_type": "stream",
          "text": [
            "7 <class 'int'>\n"
          ],
          "name": "stdout"
        }
      ]
    },
    {
      "cell_type": "code",
      "metadata": {
        "id": "qV8vPpzTXgBT",
        "outputId": "735a66cd-5e1a-466a-cf9e-645d50ece3fe"
      },
      "source": [
        "# Variables cadena de texto.\n",
        "texto = \"Hola \"\n",
        "texto += \"Mundo\"\n",
        "print( texto, type(texto) )"
      ],
      "execution_count": null,
      "outputs": [
        {
          "output_type": "stream",
          "text": [
            "Hola Mundo <class 'str'>\n"
          ],
          "name": "stdout"
        }
      ]
    },
    {
      "cell_type": "markdown",
      "metadata": {
        "id": "c0hpVNfSXgBb"
      },
      "source": [
        " **NOTA**:(si bien no es recomendable) pueden cambiar su tipo volviendo a definir"
      ]
    },
    {
      "cell_type": "code",
      "metadata": {
        "id": "5QpixaBbXgBd",
        "outputId": "cd43992a-1c87-4d28-b62c-83e05af13f6d"
      },
      "source": [
        "# Ejemplo de tipos de datos se resuelven en tiempo de ejecución.\n",
        "var, texto = texto, var\n",
        "print( \"var  :\", var, type(var) )\n",
        "print( \"texto:\", texto, type(texto) )"
      ],
      "execution_count": null,
      "outputs": [
        {
          "output_type": "stream",
          "text": [
            "var  : Cadena de texto <class 'str'>\n",
            "texto: 6 <class 'int'>\n"
          ],
          "name": "stdout"
        }
      ]
    },
    {
      "cell_type": "markdown",
      "metadata": {
        "id": "fs5uepQzwi7n"
      },
      "source": [
        "## 2.1 Tipo de Dato Booleanos\n",
        "Python implementa todos los operadores usuales de la lógica booleana, usando palabras en inglés (**and**, **or**, **not**) en lugar del estilo C/Java que utiliza símbolos (||, &&, !, etc.).\n",
        "\n",
        "También admite los típicos operadores de comparación: <, >, >=, <=, ==, !=."
      ]
    },
    {
      "cell_type": "code",
      "metadata": {
        "id": "LCv7txUgXgBk",
        "outputId": "160add55-cad4-4c1d-fb18-7d488dec4086"
      },
      "source": [
        "# Ejemplo con números booleanos.\n",
        "var1 = True\n",
        "var2 = False\n",
        "\n",
        "print( \"var1: \", var1, \", var2: \", var2 )\n",
        "print(\"\")\n",
        "print( \"var1 y var2: \", var1 and var2 )\n",
        "print( \"var1 o var2: \", var1 or var2 )\n",
        "print( \"no var1: \", not var1, \", no var2: \", not var2 )\n",
        "print(\"\")\n",
        "print( \"var1 es igual a var2: \", var1 == var2 )\n",
        "print( \"var1 es distinto de var2: \", var1 != var2 )"
      ],
      "execution_count": null,
      "outputs": [
        {
          "output_type": "stream",
          "text": [
            "var1:  True , var2:  False\n",
            "\n",
            "var1 y var2:  False\n",
            "var1 o var2:  True\n",
            "no var1:  False , no var2:  True\n",
            "\n",
            "var1 es igual a var2:  False\n",
            "var1 es distinto de var2:  True\n"
          ],
          "name": "stdout"
        }
      ]
    },
    {
      "cell_type": "markdown",
      "metadata": {
        "id": "m9P075XsXgBq"
      },
      "source": [
        "## 2.2 Tipo de Dato Numérico\n",
        "Python tiene soporte para números enteros, de punto flotante y complejos."
      ]
    },
    {
      "cell_type": "code",
      "metadata": {
        "id": "H24HXUB2XgBs",
        "outputId": "0fd05ca0-e0e1-4abe-9fa4-92e5242b353e"
      },
      "source": [
        "# 2.2.1. Ejemplo de números enteros\n",
        "var1 = 4\n",
        "\n",
        "print( \"var1: \", var1 )\n",
        "print(\"\")\n",
        "print( \"var1 sumar 3      : \", var1 + 3 )\n",
        "print( \"var1 restar 2     : \", var1 - 2 )\n",
        "print( \"var1 multiplicar 2: \", var1 * 2 )\n",
        "print( \"var1 dividir 2    : \", var1 / 2 )\n",
        "print( \"var1 potencia 3   : \", var1 ** 3 )"
      ],
      "execution_count": null,
      "outputs": [
        {
          "output_type": "stream",
          "text": [
            "var1:  4\n",
            "\n",
            "var1 sumar 3      :  7\n",
            "var1 restar 2     :  2\n",
            "var1 multiplicar 2:  8\n",
            "var1 dividir 2    :  2.0\n",
            "var1 potencia 3   :  64\n"
          ],
          "name": "stdout"
        }
      ]
    },
    {
      "cell_type": "code",
      "metadata": {
        "id": "G171iMs5XgBz",
        "outputId": "44697c62-5b8e-4f01-b2ca-bc0c4e678e16"
      },
      "source": [
        "# 2.2.2. Ejemplo de números con punto flotante\n",
        "var1 = 3.9\n",
        "\n",
        "print( \"var1: \", var1 )\n",
        "print(\"\")\n",
        "print( \"var1 sumar 3      : \", var1 + 3 )\n",
        "print( \"var1 restar 2     : \", var1 - 2 )\n",
        "print( \"var1 multiplicar 2: \", var1 * 2 )\n",
        "print( \"var1 dividir 2    : \", var1 / 2 )\n",
        "print( \"var1 potencia 3   : \", var1 ** 3 )"
      ],
      "execution_count": null,
      "outputs": [
        {
          "output_type": "stream",
          "text": [
            "var1:  3.9\n",
            "var1 sumar 3      :  6.9\n",
            "var1 restar 2     :  1.9\n",
            "var1 multiplicar 2:  7.8\n",
            "var1 dividir 2    :  1.95\n",
            "var1 potencia 3   :  59.318999999999996\n"
          ],
          "name": "stdout"
        }
      ]
    },
    {
      "cell_type": "code",
      "metadata": {
        "id": "cjXC7mVlXgB5",
        "outputId": "89bafe38-79a3-47af-b758-ad917cfe431c"
      },
      "source": [
        "# 2.2.3. Ejemplo de números complejos\n",
        "var1 = 3j + 2\n",
        "\n",
        "print( \"var1: \", var1 )\n",
        "print(\"\")\n",
        "print( \"var1 sumar 3      : \", var1 + 3 )\n",
        "print( \"var1 restar 2     : \", var1 - 2 )\n",
        "print( \"var1 multiplicar 2: \", var1 * 2 )\n",
        "print( \"var1 dividir 2    : \", var1 / 2 )\n",
        "print( \"var1 potencia 3   : \", var1 ** 3 )"
      ],
      "execution_count": null,
      "outputs": [
        {
          "output_type": "stream",
          "text": [
            "var1:  (2+3j)\n",
            "\n",
            "var1 sumar 3      :  (5+3j)\n",
            "var1 restar 2     :  3j\n",
            "var1 multiplicar 2:  (4+6j)\n",
            "var1 dividir 2    :  (1+1.5j)\n",
            "var1 potencia 3   :  (-46+9j)\n"
          ],
          "name": "stdout"
        }
      ]
    },
    {
      "cell_type": "markdown",
      "metadata": {
        "id": "k5fFqXvdXgCA"
      },
      "source": [
        "## 2.3 Tipo de Dato Cadena de caracteres\n",
        "Las cadenas de texto se pueden definir con comillas simples (\\') o dobles (\\\"), y puede tener comillas de un tipo dentro de una cadena que usa el otro tipo (es decir, \"Dijo 'hola'.\" Es válido). Las cadenas de varias líneas se encierran entre comillas triples (\\\"\"\"). Las cadenas de Python son siempre Unicode, pero hay otro tipo de cadena que son bytes puros. Se llaman cadenas de bytes y se representan con el prefijo b, por ejemplo, b'Hola \\ xce \\ xb1 '. Para llenar una cadena con valores, usa el operador% (módulo) y una tupla. Cada% s se reemplaza con un elemento de la tupla, de izquierda a derecha, y también puede usar sustituciones de diccionario, así:"
      ]
    },
    {
      "cell_type": "code",
      "metadata": {
        "id": "6Bw_PaMzXgCB",
        "outputId": "582343a9-267e-4a54-89e9-f15059c77f50"
      },
      "source": [
        "# 2.3.1. Ejemplo de cadena de caracteres.\n",
        "texto1 = \"Hola\"\n",
        "texto2 = 'Mundo'\n",
        "texto3 = b'Hola\\xce Mundo'\n",
        "print( texto1, texto2 )\n",
        "print( texto1 + texto2 )\n",
        "print( texto3  )\n"
      ],
      "execution_count": null,
      "outputs": [
        {
          "output_type": "stream",
          "text": [
            "Hola Mundo\n",
            "HolaMundo\n",
            "b'Hola\\xce Mundo'\n"
          ],
          "name": "stdout"
        }
      ]
    },
    {
      "cell_type": "code",
      "metadata": {
        "id": "lKAIhBC-XgCH",
        "outputId": "ed7f6bed-4249-41a0-951a-eabf5fe462bd"
      },
      "source": [
        "# 2.3.2. Ejemplo de cadena de caracteres multilínea\n",
        "texto = \"\"\"Hola\n",
        "Mundo\"\"\"\n",
        "\n",
        "print( texto )"
      ],
      "execution_count": null,
      "outputs": [
        {
          "output_type": "stream",
          "text": [
            "Hola\n",
            "Mundo\n"
          ],
          "name": "stdout"
        }
      ]
    },
    {
      "cell_type": "code",
      "metadata": {
        "id": "ej_n2yCsXgCN",
        "outputId": "008aaab2-659e-4c8f-a41c-f807e00f287b"
      },
      "source": [
        "# 2.3.3. Ejemplo de cadena de caracteres como vectores.\n",
        "texto = \"texto de prueba\"\n",
        "\n",
        "print( \"Letra en la posición 2 del vector texto:\", texto[2] )\n",
        "print( \"Letras entre las posiciones 0 y 5 del vector texto:\", texto[0:5] )\n",
        "print( \"Cantidad de caracteres del vector texto:\", len(texto))"
      ],
      "execution_count": null,
      "outputs": [
        {
          "output_type": "stream",
          "text": [
            "Letra en la posición 2 del vector texto: x\n",
            "Letras entre las posiciones 0 y 5 del vector texto: texto\n",
            "Cantidad de caracteres del vector texto: 12\n"
          ],
          "name": "stdout"
        }
      ]
    },
    {
      "cell_type": "code",
      "metadata": {
        "id": "AxX7F6OgXgCT",
        "outputId": "0828b11b-92fc-475a-df69-28acb258c10c"
      },
      "source": [
        "# 2.3.4. Funciones del objeto cadenas de caracteres.\n",
        "texto = \"   Texto de Prueba     \"\n",
        "\n",
        "print( \"Texto sin espacios: _\" + texto.strip() + \"_\" )\n",
        "print( \"Texto a mayúsculas: \", texto.upper() )\n",
        "print( \"Texto reemplazado por Queso: \", texto.replace(\"Texto\",\"Queso\") )\n",
        "print( \"Texto en vector de palabras: \", texto.strip().split(\" \") )"
      ],
      "execution_count": null,
      "outputs": [
        {
          "output_type": "stream",
          "text": [
            "Texto sin espacios: _Texto de Prueba_\n",
            "Texto a mayusculas:     TEXTO DE PRUEBA     \n",
            "Texto reemplazado por Queso:     Queso de Prueba     \n",
            "Texto en vector de palabras:  ['Texto', 'de', 'Prueba']\n"
          ],
          "name": "stdout"
        }
      ]
    },
    {
      "cell_type": "code",
      "metadata": {
        "id": "YtbnK7YZXgCd",
        "outputId": "ef22c946-fcee-468f-f824-c43b96b94f82"
      },
      "source": [
        "# 2.3.5. Formateando a la cadena de caracteres.\n",
        "var1 = 4\n",
        "var2 = 6\n",
        "texto = \"La materia se aprueba con notas entre {} y {}.\"\n",
        "print ( texto.format( var1, var2 ))\n",
        "var1 = \"cuatro\"\n",
        "var2 = \"seis\"\n",
        "print ( texto.format( var1, var2 ))"
      ],
      "execution_count": null,
      "outputs": [
        {
          "output_type": "stream",
          "text": [
            "La materia se aprueba con notas entre 4 y 6.\n",
            "La materia se aprueba con notas entre cuatro y seis.\n"
          ],
          "name": "stdout"
        }
      ]
    },
    {
      "cell_type": "markdown",
      "metadata": {
        "id": "0UU_CcqlXgCk"
      },
      "source": [
        "## 2.4 Tipo de Dato Lista, Tupla, Set y Diccionario \n",
        "Python posee una colección de cuatro tipos de datos especiales:\n",
        "\n",
        "* **Lista:** Es una colección ordenada y modificable. Permite miembros duplicados.\n",
        "* **Tupla:** Es una colección ordenada e inmutable. Permite miembros duplicados.\n",
        "* **Conjunto:** Es una colección que no está ordenada ni indexada. No hay miembros duplicados.\n",
        "* **Diccionario:** es una colección desordenada, modificable e indexada. No hay miembros duplicados.\n",
        "\n",
        "Al elegir un tipo de colección, es útil comprender las propiedades de ese tipo. Elegir el tipo correcto para un conjunto de datos en particular podría significar la retención del significado y podría significar un aumento en la eficiencia o la seguridad."
      ]
    },
    {
      "cell_type": "markdown",
      "metadata": {
        "id": "6ztaFP2cXgCl"
      },
      "source": [
        "### 2.4.1 Tipo de Dato Lista\n",
        "Python tiene soporte para Listas (List) o Vectores como un tipo de dato predefinido en el lenguaje. Para crear una lista basta con poner datos entre corchetes \"[\" y \"]\", separarndo los datos entre comas \",\". "
      ]
    },
    {
      "cell_type": "code",
      "metadata": {
        "id": "UMu2aTd2XgCn",
        "outputId": "2f917b45-0fcc-4932-83e0-983ed0a251ec"
      },
      "source": [
        "# 2.4.1 Ejemplo del tipo de dato Lista de números.\n",
        "l = [ 1, 2, 3, 4, 5]\n",
        "\n",
        "print( \"Elemento 1 de la lista l: \", l[1] )\n",
        "print( \"Cantidad de elementos de la lista l: \", len(l) )\n",
        "print( \"Elementos de las lista l:\", l )\n"
      ],
      "execution_count": null,
      "outputs": [
        {
          "output_type": "stream",
          "text": [
            "Elemento 1 de la lista list:  2\n",
            "Cantidad de elementos de la lista list:  5\n",
            "Elementos de las lista list: [1, 2, 3, 4, 5]\n"
          ],
          "name": "stdout"
        }
      ]
    },
    {
      "cell_type": "code",
      "metadata": {
        "id": "7l88QBOGXgCv",
        "outputId": "dc4d69d5-436b-4e69-a2cc-6f716227a814"
      },
      "source": [
        "# 2.4.2. Ejemplo del tipo de dato Lista de texto.\n",
        "l = [ \"uno\", \"dos\", \"tres\", \"cuatro\", \"cinco\" ]\n",
        "\n",
        "print( \"Elemento 1 de la lista l: \", l[1] )\n",
        "print( \"Cantidad de elementos de la lista l: \", len(l) )\n",
        "print( \"Elementos de las lista l:\", l )"
      ],
      "execution_count": null,
      "outputs": [
        {
          "output_type": "stream",
          "text": [
            "Elemento 1 de la lista l:  dos\n",
            "Cantidad de elementos de la lista l:  5\n",
            "Elementos de las lista l: ['uno', 'dos', 'tres', 'cuatro', 'cinco']\n"
          ],
          "name": "stdout"
        }
      ]
    },
    {
      "cell_type": "code",
      "metadata": {
        "id": "sIt62bi1XgC1",
        "outputId": "c369a078-4fee-4185-cbd2-51f2a0341fb7"
      },
      "source": [
        "# 2.4.2. Ejemplo del tipo de dato Lista de datos.\n",
        "l = [ \"uno\", \"dos\", 3, 'c', 3j+2 ]\n",
        "\n",
        "print( \"Elemento 1 de la lista l: \", l[1] )\n",
        "print( \"Cantidad de elementos de la lista l: \", len(l) )\n",
        "print( \"Elementos de las lista l:\", l )\n",
        "\n",
        "l[1] = 2\n",
        "print( \"Elemento 1 modificado de la lista l: \", l[1] )\n"
      ],
      "execution_count": null,
      "outputs": [
        {
          "output_type": "stream",
          "text": [
            "Elemento 1 de la lista l:  dos\n",
            "Cantidad de elementos de la lista l:  5\n",
            "Elementos de las lista l: ['uno', 'dos', 3, 'a', (2+3j)]\n",
            "Elemento 1 modificado de la lista l:  2\n"
          ],
          "name": "stdout"
        }
      ]
    },
    {
      "cell_type": "markdown",
      "metadata": {
        "id": "JR0RYyYWXgC-"
      },
      "source": [
        "### 2.4.2 Tipo de Dato Tupla\n",
        "Python tiene soporte para Tuplas (Tuples) como un tipo de dato predefinido en el lenguaje. Para crear una Tupla basta con poner datos entre paréntesis \"(\" y \")\", separando los datos entre comas \",\"."
      ]
    },
    {
      "cell_type": "code",
      "metadata": {
        "id": "VQcXDa3PXgC_",
        "outputId": "a986607a-5014-4ebd-d5c2-6e3d820a6b92"
      },
      "source": [
        "# 2.4.2. Ejemplo del tipo de dato Tupla.\n",
        "t = ( \"uno\", \"dos\", 3, 'c', 3j+2 )\n",
        "\n",
        "print( \"Elemento 1 de la Tupla t: \", t[1] )\n",
        "print( \"Cantidad de elementos de la Tupla t: \", len( t ) )\n",
        "print( \"Elementos de la Tupla t:\", t )\n",
        "\n",
        "# Comando no válido, ya que la tupla son solo lectura. \n",
        "#t[1] = 22\n",
        "#print( \"Elemento 1 modificado de la Tupla t: \", t[1] )\n"
      ],
      "execution_count": null,
      "outputs": [
        {
          "output_type": "stream",
          "text": [
            "Elemento 1 de la Tupla t:  dos\n",
            "Cantidad de elementos de la Tupla t:  5\n",
            "Elementos de la Tupla t: ('uno', 'dos', 3, 'c', (2+3j))\n"
          ],
          "name": "stdout"
        }
      ]
    },
    {
      "cell_type": "markdown",
      "metadata": {
        "id": "4TSQqFdrXgDG"
      },
      "source": [
        "### 2.4.3 Tipo de Dato Conjunto\n",
        "Python tiene soporte para Conjuntos (Sets) como un tipo de dato predefinido en el lenguaje. Para crear una Set basta con poner datos entre llaves \"{\" y \"}\", separando los datos entre comas \",\"."
      ]
    },
    {
      "cell_type": "code",
      "metadata": {
        "id": "Qf8Pg8D0XgDI",
        "outputId": "aab8bdba-765f-4ab6-b40a-0396e8c8d0d7"
      },
      "source": [
        "# 2.4.3. Ejemplo del tipo de dato Set.\n",
        "s = { 1, 2, \"tres\", 'c', 3j+2 }\n",
        "\n",
        "# Ejemplo comentado porque no es indexable.\n",
        "#print( \"Elemento 1 de la Set t: \", s[1] )\n",
        "\n",
        "print( \"Elemento 1 existe en la Sets s: \", 1 in s )\n",
        "print( \"Cantidad de elementos de la Sets s: \", len( s ) )\n",
        "print( \"Elementos de la Sets s:\", s )\n",
        "\n",
        "# Ejemplo comentado porque no es indexable.\n",
        "#s[1] = 22\n",
        "#print( \"Elemento 1 modificado del Sets s: \", s[1] )"
      ],
      "execution_count": null,
      "outputs": [
        {
          "output_type": "stream",
          "text": [
            "Elemento 1 existe en la Sets s:  True\n",
            "Cantidad de elementos de la Sets s:  5\n",
            "Elementos de la Sets s: {1, 2, (2+3j), 'c', 'tres'}\n"
          ],
          "name": "stdout"
        }
      ]
    },
    {
      "cell_type": "markdown",
      "metadata": {
        "id": "JlCts_zkXgDP"
      },
      "source": [
        "### 2.4.4 Tipo de Dato Diccionario\n",
        "Python tiene soporte para Diccionario (Dictionaries) como un tipo de dato predefinido en el lenguaje. Para crear un Diccionario basta con poner  entre llaves \"{\" y \"}\" el par llave:valor (ambos dos no tienen un tipo de dato definido), separando los datos entre comas \",\"."
      ]
    },
    {
      "cell_type": "code",
      "metadata": {
        "id": "Yqw1hFLoXgDQ",
        "outputId": "e3db5ef2-448f-4015-bc6c-a09af42a7626"
      },
      "source": [
        "# 2.4.4. Ejemplo del tipo de dato Diccionario.\n",
        "d = { \"1\" : \"uno\", \n",
        "      \"2\" :  2, \n",
        "       3  : \"tres\" }\n",
        "\n",
        "# Ejemplo comentado porque no es indexable como la lista.\n",
        "# print( \"Elemento 1 del Diccionario d: \", d[1] )\n",
        "\n",
        "print( \"Elemento clave 1 en Diccionario d: \", d[\"1\"] )\n",
        "print( \"Cantidad de elementos del Diccionario d: \", len( d ) )\n",
        "print( \"Elementos del Diccionario d:\", d )\n",
        "\n",
        "s[3] = 22\n",
        "print( \"Elemento con clave 3 modificado del Diccionario d: \", d[3] )"
      ],
      "execution_count": null,
      "outputs": [
        {
          "output_type": "stream",
          "text": [
            "Elemento clave 1 en Diccionario d:  uno\n",
            "Cantidad de elementos del Diccionario d:  3\n",
            "Elementos del Diccionario d: {'1': 'uno', '2': 2, 3: 'tres'}\n",
            "Elemento con clave 3 modificado del Diccionario d:  tres\n"
          ],
          "name": "stdout"
        }
      ]
    },
    {
      "cell_type": "markdown",
      "metadata": {
        "id": "zUKSQngLXgDY"
      },
      "source": [
        "# 3 Instrucciones de Control de programa\n",
        "En Python las declaraciones del control de flujo, como otros lenguajes, son **if**, **for** y **while**. Con la salvedad que no hay llaves \"{}\" ni delimitadores como *begin...end* que marcan el comienzo y fin de un bloque. Los bloques se forman utilizando  la sangría del lenguaje (*indentation*). La sangría por defecto son 4 espacios en blanco. La sintaxis de estas declaraciones es así:"
      ]
    },
    {
      "cell_type": "markdown",
      "metadata": {
        "id": "Mwm8YkkuXgDZ"
      },
      "source": [
        "## 3.1 Control de programa condición\n",
        "El funcionamiento de condición **if** es similar al de otros lenguajes, pero su formato no requiere de paréntesis y termina siempre con \":\". Su sintaxis es:\n",
        "\n",
        "```python\n",
        "if condicion :\n",
        "    # Cuerpo del if (sangría con 4 espacios)\n",
        "    ...\n",
        "else:\n",
        "    # Cuerpo del else (sangría con 4 espacios)\n",
        "    ...\n",
        "```"
      ]
    },
    {
      "cell_type": "code",
      "metadata": {
        "id": "w_uf9_tNXgDb",
        "outputId": "3d944b52-658f-4971-8940-4e7577b76a08"
      },
      "source": [
        "# 3.1. Ejemplo de la estructura de una condición.\n",
        "nota = 10\n",
        "\n",
        "print(\"El alumno con la nota\",  nota, end=\" \" )\n",
        "if nota >= 7: \n",
        "    # Condición verdadera\n",
        "    print(\"promociona\", end =\" \")\n",
        "else:\n",
        "    # Condición falsa\n",
        "    print( \"no promociona\", end =\" \")\n",
        "\n",
        "print( \"la materia SOA.\" )"
      ],
      "execution_count": null,
      "outputs": [
        {
          "output_type": "stream",
          "text": [
            "El alumno con la nota 10 promociona la materia SOA.\n"
          ],
          "name": "stdout"
        }
      ]
    },
    {
      "cell_type": "markdown",
      "metadata": {
        "id": "f70izefhXgDi"
      },
      "source": [
        "## 3.2 Control de programa bucle\n",
        "En Python la sentencia de un bucle **for** son parecidos a los **if**, pero además tienen la sintaxis ```for variable in secuencia:```. En este caso, variable es la variable que va a ir cambiando, y una secuencia es una *Lista*, una *Tupla*, un *Diccionario*, una *Conjunto* o una *Cadena*).\n",
        "```python\n",
        "for variable in secuencia :\n",
        "    # Cuerpo del bucle (sangría con 4 espacios)\n",
        "    ...\n",
        "```"
      ]
    },
    {
      "cell_type": "code",
      "metadata": {
        "id": "D4elCOUiXgDj",
        "outputId": "b16ef509-89ac-477e-8e98-d8b443d70f02"
      },
      "source": [
        "# 3.2. Ejemplo de un bucle\n",
        "\n",
        "print(\"Ejemplo de bucle con números:\")\n",
        "for i in range(0,12):\n",
        "    print(i)\n",
        "\n",
        "print(\"Ejemplo de bucle con texto:\")\n",
        "\n",
        "texto = \"Cadena de texto\"\n",
        "for i in texto:\n",
        "    print(i)\n",
        "\n",
        "print(\"Ejemplo de bucle con lista:\")\n",
        "\n",
        "lista = [\"uno\", \"dos\", \"tres\"]\n",
        "for i in lista:\n",
        "    print(i)\n",
        "     "
      ],
      "execution_count": null,
      "outputs": [
        {
          "output_type": "stream",
          "text": [
            "Ejemplo de bucle con números:\n",
            "0\n",
            "1\n",
            "2\n",
            "3\n",
            "4\n",
            "5\n",
            "6\n",
            "7\n",
            "8\n",
            "9\n",
            "10\n",
            "11\n",
            "Ejemplo de bucle con texto:\n",
            "C\n",
            "a\n",
            "d\n",
            "e\n",
            "n\n",
            "a\n",
            " \n",
            "d\n",
            "e\n",
            " \n",
            "t\n",
            "e\n",
            "x\n",
            "t\n",
            "o\n",
            "Ejemplo de bucle con lista:\n",
            "uno\n",
            "dos\n",
            "tres\n"
          ],
          "name": "stdout"
        }
      ]
    },
    {
      "cell_type": "markdown",
      "metadata": {
        "id": "8yXcTouRXgDr"
      },
      "source": [
        "## 3.3 Control de programa Ciclo\n",
        "En Python la sentencia de un ciclo **while** es parecida al **if**, la diferencia es que ejecuta un conjunto de declaraciones mientras que la condición sea verdadera.\n",
        "```python\n",
        "while condición :\n",
        "    # Cuerpo del ciclo (sangría con 4 espacios)\n",
        "    ...\n",
        "```"
      ]
    },
    {
      "cell_type": "code",
      "metadata": {
        "id": "17uHFoh9XgDs",
        "outputId": "6b5c8412-27ad-4799-ab25-c78d810588e2"
      },
      "source": [
        "# 3.3. Ejemplo de Ciclo while\n",
        "var = 1\n",
        "while var < 6:\n",
        "    print(var)\n",
        "    var += 1"
      ],
      "execution_count": null,
      "outputs": [
        {
          "output_type": "stream",
          "text": [
            "1\n",
            "2\n",
            "3\n",
            "4\n",
            "5\n"
          ],
          "name": "stdout"
        }
      ]
    },
    {
      "cell_type": "markdown",
      "metadata": {
        "id": "d-Q4gSVeXgD1"
      },
      "source": [
        "# 4 Funciones\n",
        "El lenguaje Python posee dos formas para agrupar un conjunto de instrucciones, como las tradicionales funciones y lambas. "
      ]
    },
    {
      "cell_type": "markdown",
      "metadata": {
        "id": "wyqLhWtnXgD2"
      },
      "source": [
        "## 4.1 Lambda\n",
        "Las funciones Lambda son funciones ad-hoc que se componen de una sola declaración. Los parámetros se pasan por referencia, pero los tipos inmutables (tuplas, entradas, cadenas, etc.) no pueden ser cambiados en el llamador por el destinatario. Esto se debe a que solo se pasa la ubicación de memoria del elemento, y al vincular otro objeto a una variable se descarta el anterior, por lo que se reemplazan los tipos inmutables. La forma que se codifica una función Lambda es declara:\n",
        "\n",
        "```python\n",
        "funvar = lambda p1, p2,...: #Acción con los parametros p1, p2,... \n",
        "```"
      ]
    },
    {
      "cell_type": "code",
      "metadata": {
        "id": "oqCAKyo9XgD4",
        "outputId": "866ac988-d156-43d2-9cc3-b81d3e2b8336"
      },
      "source": [
        "# 4.1. Ejemplos de función lambda\n",
        "\n",
        "# Función lambda de un parámetro.\n",
        "funvar1 = lambda param1: param1 * 10 \n",
        "\n",
        "print( funvar1( 2 ) )\n",
        "print( funvar1( 3 ) )\n",
        "\n",
        "# Función lambda de dos parámetros.\n",
        "funvar2 = lambda param1,param2: (param1 * 10) + param2\n",
        "print( funvar2( 2, 3 ) )\n",
        "print( funvar2( 4, 5 ) )\n",
        "\n",
        "\n",
        "# Función lambda de más de una línea (No usar!).\n",
        "funvar3 = lambda f : (funvar1(2) + funvar2(2,3)) \\\n",
        "- f\n",
        "\n",
        "print( funvar3( 10 ) )"
      ],
      "execution_count": null,
      "outputs": [
        {
          "output_type": "stream",
          "text": [
            "20\n",
            "30\n",
            "23\n",
            "45\n",
            "33\n"
          ],
          "name": "stdout"
        }
      ]
    },
    {
      "cell_type": "markdown",
      "metadata": {
        "id": "kQVKLhHnXgD_"
      },
      "source": [
        "## 4.2 Función tradicional \n",
        "Las funciones en Python se deben declarar con la palabra reservada **def**. Los argumentos pueden ser nulos, obligatorios u opcionales. Los parámetros opcionales, al igual que otros lenguajes,  se establecen en la declaración de la función después de los argumentos obligatorios asignándoles un valor predeterminado. Para los argumentos con nombre, se asigna un valor al nombre del argumento. Las funciones pueden devolver una tupla (y mediante el desempaquetado de tuplas, puede devolver de forma eficaz varios valores). La forma que se codifica una función tradicional es:\n",
        "\n",
        "```python\n",
        "def NombreDeFuncion ( parametro1, parametro2=\"var\" ,... ):\n",
        "    # código de la función.\n",
        "    # parametro1: es obligatorio.\n",
        "    # parametro2: toma por defecto el valor \"var\" \n",
        "    # ...: Pueden venir más parámetros opcionales. \n",
        "    ... \n",
        "```"
      ]
    },
    {
      "cell_type": "code",
      "metadata": {
        "id": "TIjwYKZCXgEB",
        "outputId": "d421db12-0db2-43e0-e10f-7a4518da8a2c"
      },
      "source": [
        "# 4.2.1 Ejemplos parámetros en funciones.\n",
        "\n",
        "# Ejemplo de función sin parametro\n",
        "def fun1():\n",
        "    print( \" Función fun1 sin parámetro.\" )\n",
        "\n",
        "fun1()\n",
        "\n",
        "# Ejemplo de función con parámetros obligatorios\n",
        "def fun2( p1, p2):\n",
        "    print( \" Función fun2 parámetro 1:\", p1, \", parámetro 2:\", p2 )\n",
        "\n",
        "fun2( 1, 2 )\n",
        "\n",
        "# Ejemplo de función con parámetros opcionales\n",
        "def fun3( p1, p2=\"parámetro2\"):\n",
        "    print( \" Función fun3 parámetro 1:\", p1, \", parámetro 2:\", p2 )\n",
        "\n",
        "fun3( 1, 2 )\n",
        "fun3( 1 )"
      ],
      "execution_count": null,
      "outputs": [
        {
          "output_type": "stream",
          "text": [
            " Función fun1 sin parámetro.\n",
            " Función fun2 parámetro 1: 1 , parámetro 2: 2\n",
            " Función fun3 parámetro 1: 1 , parámetro 2: 2\n",
            " Función fun3 parámetro 1: 1 , parámetro 2: parámetro2\n"
          ],
          "name": "stdout"
        }
      ]
    },
    {
      "cell_type": "code",
      "metadata": {
        "id": "jDZWLX5CXgEH",
        "outputId": "7d49af78-8b8f-4015-ee2a-f8a8833b42a6"
      },
      "source": [
        "#4.2.2. Ejemplo del ámbito de trabajo en funciones\n",
        "l = [ \"uno\", \"dos\", \"tres\", \"cuatro\", \"cinco\" ]\n",
        "\n",
        "def agregoSeis(p_list):\n",
        "    p_list.append(\"seis\")\n",
        "    print(p_list)\n",
        "    \n",
        "agregoSeis( l )\n",
        "\n",
        "print(l)"
      ],
      "execution_count": null,
      "outputs": [
        {
          "output_type": "stream",
          "text": [
            "['uno', 'dos', 'tres', 'cuatro', 'cinco', 'seis']\n",
            "['uno', 'dos', 'tres', 'cuatro', 'cinco', 'seis']\n"
          ],
          "name": "stdout"
        }
      ]
    },
    {
      "cell_type": "markdown",
      "metadata": {
        "id": "FRDOrQVCXgEN"
      },
      "source": [
        "# 5 Objetos\n",
        "El lenguaje Python es un lenguaje de programación orientado a objetos. Casi todo en Python es un objeto, con sus propiedades y métodos. Para construir nuestros propios objetos se define la clase utilizando la palabra reservara **class**. Python admite una forma limitada de herencia múltiple en clases. Las variables y los métodos privados se pueden declarar (por convención, esto no se aplica en el lenguaje) agregando un guion bajo inicial (por ejemplo, _var). También podemos vincular nombres arbitrarios a instancias de clases. A continuación, se muestra un ejemplo:\n",
        "```python\n",
        "class NombreDeLaClase:\n",
        "    _var1 = \"var\"             # _var1: Dato privado.\n",
        "    def __init__( self, param1, param2, ...) # Método constructor, con dos parametros.\n",
        "        # Código del constructor.\n",
        "        self._var2 = param1   # _var2: Dato privado inicializado con el valor de param1.\n",
        "        self._var3 = param2   # _var3: Dato privado inicializado con el valor de param2.\n",
        "        ...\n",
        "    def metodo( self, param1 )  # Método con un parámetro\n",
        "        # Código de la función.\n",
        "        ...\n",
        "```"
      ]
    },
    {
      "cell_type": "code",
      "metadata": {
        "id": "8yWrDZ9VXgEO",
        "outputId": "e1e99995-c1fe-4a6c-ebcb-b017295ac6f9"
      },
      "source": [
        "# 5.1. Ejemplo de Objeto\n",
        "\n",
        "# Definición de la clase Persona\n",
        "class Persona:\n",
        "    _edad = 0\n",
        "    def __init__( self, n, s ):\n",
        "        self._nombre = n\n",
        "        self._sexo   = s\n",
        "    \n",
        "    def cumplir_años(self):\n",
        "        self._edad += 1\n",
        "\n",
        "# Implemento los objetos w y e\n",
        "p = Persona( \"Pepe\", \"H\" )\n",
        "p.cumplir_años()\n",
        "p.cumplir_años()\n",
        "\n",
        "g = Persona( \"Graciela\", \"M\" )\n",
        "g.cumplir_años()\n",
        "\n",
        "# Defino la función lambda, que utiliza los objetos.\n",
        "funvar = lambda o:print( \"La persona\", o._nombre, \"tiene\", o._edad, \"años de edad\" )\n",
        "\n",
        "# Uso la función lambda para los objetos w y e.\n",
        "funvar( p )\n",
        "funvar( g )"
      ],
      "execution_count": null,
      "outputs": [
        {
          "output_type": "stream",
          "text": [
            "La persona Pepe tiene 2 años de edad\n",
            "La persona Graciela tiene 1 años de edad\n"
          ],
          "name": "stdout"
        }
      ]
    },
    {
      "cell_type": "markdown",
      "metadata": {
        "id": "8qQ_PG5iXgEU"
      },
      "source": [
        "# 6 Excepciones\n",
        "En el lenguaje Python incluso si una declaración o expresión es sintácticamente correcta, puede generar un error cuando se intenta ejecutar. Los errores detectados durante la ejecución se llaman excepciones, y no son incondicionalmente fatales."
      ]
    },
    {
      "cell_type": "markdown",
      "metadata": {
        "id": "rUXTtcHZbCVI"
      },
      "source": [
        "## 6.1 Manejo de excepciones\n",
        "Sin embargo, la mayoría de las excepciones no son gestionadas por el código y resultan en mensajes de error. Como por ejemplo:"
      ]
    },
    {
      "cell_type": "code",
      "metadata": {
        "id": "W6lIuqbNXgEV",
        "outputId": "65e123db-35ee-4fda-b3a5-d0189c4423a0"
      },
      "source": [
        "var1 = 10 / 0"
      ],
      "execution_count": null,
      "outputs": [
        {
          "output_type": "error",
          "ename": "ZeroDivisionError",
          "evalue": "division by zero",
          "traceback": [
            "\u001b[1;31m---------------------------------------------------------------------------\u001b[0m",
            "\u001b[1;31mZeroDivisionError\u001b[0m                         Traceback (most recent call last)",
            "\u001b[1;32m<ipython-input-165-280712cec998>\u001b[0m in \u001b[0;36m<module>\u001b[1;34m\u001b[0m\n\u001b[1;32m----> 1\u001b[1;33m \u001b[0mvar1\u001b[0m \u001b[1;33m=\u001b[0m \u001b[1;36m10\u001b[0m \u001b[1;33m/\u001b[0m \u001b[1;36m0\u001b[0m\u001b[1;33m\u001b[0m\u001b[1;33m\u001b[0m\u001b[0m\n\u001b[0m",
            "\u001b[1;31mZeroDivisionError\u001b[0m: division by zero"
          ]
        }
      ]
    },
    {
      "cell_type": "markdown",
      "metadata": {
        "id": "zjHlU8fEXgEc"
      },
      "source": [
        "Para poder gestionar las excepciones desde el programa se debe codificar siguiendo la forma:\n",
        "```python\n",
        "try:\n",
        "    # Código a verificar el error.\n",
        "    ...\n",
        "except NombreExcepcion:\n",
        "    # Acción a ejecutar en caso de error.\n",
        "    ...\n",
        "```"
      ]
    },
    {
      "cell_type": "code",
      "metadata": {
        "id": "ZM4nN3baXgEd",
        "outputId": "3c045c42-a218-441c-bb4b-3dfd5d433ef7"
      },
      "source": [
        "# 6.1.1. Ejemplo de Excepción con mensaje.\n",
        "try:\n",
        "    var1 = 10 / 0\n",
        "except ZeroDivisionError:\n",
        "    print( \"ERROR: No se puede dividir por cero.\" )\n",
        "\n",
        "# 6.1.2. Ejemplo de Excepción con mensaje.\n",
        "try:\n",
        "    var1 = 10 / 0\n",
        "except ZeroDivisionError:\n",
        "    # Se ignora la excepción.\n",
        "    pass"
      ],
      "execution_count": null,
      "outputs": [
        {
          "output_type": "stream",
          "text": [
            "ERROR: No se puede dividir por cero.\n"
          ],
          "name": "stdout"
        }
      ]
    },
    {
      "cell_type": "markdown",
      "metadata": {
        "id": "4wOKocTzXgEi"
      },
      "source": [
        "## 6.2 Disparar las propias excepciones.\n",
        "En el lenguaje Python se puede lanzar una excepción si se produce una condición dada. Para lanzar (o aumentar) una excepción, use la palabra clave **raise**."
      ]
    },
    {
      "cell_type": "code",
      "metadata": {
        "id": "51nfbBfjXgEj",
        "outputId": "6cc0ef81-12df-4ca3-89b2-c6da5ba9edef"
      },
      "source": [
        "# 6.3.1 Ejemplo de lanzar excepciones.\n",
        "nota = 2\n",
        "try:\n",
        "    if nota <= 2: \n",
        "        raise Exception(\"reprobo\")\n",
        "except Exception as e:\n",
        "    print(\"alumno\", e.args )   # Muestra el parámetros.\n",
        "\n",
        "# 6.3.2 Ejemplo de lanzar excepciones.\n",
        "nota = 2\n",
        "try:\n",
        "    if nota <= 2: \n",
        "        raise Exception(\"alumno\", \"reprobo\")\n",
        "except Exception as e:\n",
        "    print(e.args)   # Muestra los dos parámetros.\n",
        "    print( e.args[0], e.args[1])"
      ],
      "execution_count": null,
      "outputs": [
        {
          "output_type": "stream",
          "text": [
            "alumno ('reprobo',)\n",
            "('alumno', 'reprobo')\n",
            "alumno reprobo\n"
          ],
          "name": "stdout"
        }
      ]
    },
    {
      "cell_type": "markdown",
      "metadata": {
        "id": "F9WJpnKMXgEo"
      },
      "source": [
        "## 6.3 Operaciones especiales en las excepciones"
      ]
    },
    {
      "cell_type": "markdown",
      "metadata": {
        "id": "50tQdBWibJ8d"
      },
      "source": [
        "### 6.3.1 Bloque **else**\n",
        "\n",
        "La declaración de la excepción **except**, tiene una definición opcional **else**. Con su manejo se pueden definir bloques de código que se ejecutarán si no se produce la excepción."
      ]
    },
    {
      "cell_type": "code",
      "metadata": {
        "id": "vTrW2VEzXgEp",
        "outputId": "b60ef082-4696-4722-f572-1f00a832bf33"
      },
      "source": [
        "# 6.3.1.1 ejemplo de else si no se produce la excepción.\n",
        "\n",
        "try:\n",
        "    # No ocurre error.\n",
        "    var1 = 10\n",
        "except ZeroDivisionError:\n",
        "    print( \"ERROR: No se puede dividir por cero.\" )\n",
        "else:\n",
        "    print( \"No se produce error.\" )\n",
        "\n",
        "# 6.3.1.2 ejemplo excepciones varios errores.\n",
        "try:\n",
        "    # Excepción \"NameError\", variable varX no definida.\n",
        "    var1 = varX\n",
        "    # Excepcion ZeroDivisionError, nunca se produca (porque la instrucción de arriba dispara la excepción).\n",
        "    var1 = 10/0\n",
        "except ZeroDivisionError:\n",
        "    print( \"ERROR: No se puede dividir por cero.\" )\n",
        "except NameError:\n",
        "    print( \"ERROR: Variable varX no definida.\" )\n",
        "else:\n",
        "    print( \"No se produce error.\" )    "
      ],
      "execution_count": null,
      "outputs": [
        {
          "output_type": "stream",
          "text": [
            "No se produce error.\n",
            "ERROR: Variable varX no definida.\n"
          ],
          "name": "stdout"
        }
      ]
    },
    {
      "cell_type": "markdown",
      "metadata": {
        "id": "hdvZGMg8XgEw"
      },
      "source": [
        "### 6.3.2 Bloque **finally**\n",
        "La declaración **try** tiene otra cláusula opcional llamada **finally** cuyo propósito es definir acciones de limpieza que serán ejecutadas bajo ciertas circunstancias. La cláusula **finally** se ejecuta independientemente de que la cláusula try produzca o no una excepción. Por ejemplo:"
      ]
    },
    {
      "cell_type": "code",
      "metadata": {
        "id": "HbDMtfHZXgEw",
        "outputId": "18dc8f8d-c995-437b-a004-1ae0e17fe624"
      },
      "source": [
        "# 6.3.2.1. Ejemplo de finally.\n",
        "try:\n",
        "    var1 = 10 / 0\n",
        "except ZeroDivisionError:\n",
        "    print( \"ERROR: No se puede dividir por cero.\" )\n",
        "finally:\n",
        "    var1 = 999\n",
        "\n",
        "print(var1)"
      ],
      "execution_count": null,
      "outputs": [
        {
          "output_type": "stream",
          "text": [
            "ERROR: No se puede dividir por cero.\n",
            "999\n"
          ],
          "name": "stdout"
        }
      ]
    },
    {
      "cell_type": "markdown",
      "metadata": {
        "id": "piVPppE7XgE1"
      },
      "source": [
        "# 7 Referencias\n",
        "- [x] Explicación y ejemplos Python: https://docs.python.org/es/3/contents.html.\n",
        "- [x] Explicación y ejemplos interactivos Python: https://www.w3schools.com/python/default.asp.\n",
        "- [x] Cursos y manuales en línea de Python: https://www.codecademy.com/catalog/language/python.\n",
        "- [x] Libro en español de Python: https://argentinaenpython.com/quiero-aprender-python/aprenda-a-pensar-como-un-programador-con-python.pdf.\n"
      ]
    }
  ]
}
